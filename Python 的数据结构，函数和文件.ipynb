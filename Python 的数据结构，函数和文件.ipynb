{
 "cells": [
  {
   "cell_type": "markdown",
   "id": "2df26a08",
   "metadata": {},
   "source": [
    "# Python 的数据结构，函数和文件"
   ]
  },
  {
   "cell_type": "markdown",
   "id": "f56674dd",
   "metadata": {},
   "source": [
    "## 3.1数据结构和序列"
   ]
  },
  {
   "cell_type": "markdown",
   "id": "6e30f608",
   "metadata": {},
   "source": [
    "### 元组"
   ]
  },
  {
   "cell_type": "code",
   "execution_count": 10,
   "id": "b212e150",
   "metadata": {},
   "outputs": [],
   "source": [
    "tup=4,5,6"
   ]
  },
  {
   "cell_type": "code",
   "execution_count": 11,
   "id": "97a9b4ed",
   "metadata": {},
   "outputs": [
    {
     "data": {
      "text/plain": [
       "(4, 5, 6)"
      ]
     },
     "execution_count": 11,
     "metadata": {},
     "output_type": "execute_result"
    }
   ],
   "source": [
    "tup"
   ]
  },
  {
   "cell_type": "code",
   "execution_count": 12,
   "id": "6d657924",
   "metadata": {},
   "outputs": [],
   "source": [
    "nested_tup=(4,5,6),(7,8)"
   ]
  },
  {
   "cell_type": "code",
   "execution_count": 15,
   "id": "360b31eb",
   "metadata": {},
   "outputs": [
    {
     "data": {
      "text/plain": [
       "((4, 5, 6), (7, 8))"
      ]
     },
     "execution_count": 15,
     "metadata": {},
     "output_type": "execute_result"
    }
   ],
   "source": [
    "nested_tup"
   ]
  },
  {
   "cell_type": "markdown",
   "id": "abc4dbe6",
   "metadata": {},
   "source": [
    "#### 元组可以将任意序列或迭代器转换成元组"
   ]
  },
  {
   "cell_type": "code",
   "execution_count": 16,
   "id": "bdc56656",
   "metadata": {},
   "outputs": [
    {
     "data": {
      "text/plain": [
       "(4, 0, 2)"
      ]
     },
     "execution_count": 16,
     "metadata": {},
     "output_type": "execute_result"
    }
   ],
   "source": [
    "tuple([4,0,2])"
   ]
  },
  {
   "cell_type": "code",
   "execution_count": 17,
   "id": "5c38f307",
   "metadata": {},
   "outputs": [],
   "source": [
    "tup=tuple('string')"
   ]
  },
  {
   "cell_type": "code",
   "execution_count": 18,
   "id": "bf4d1ccb",
   "metadata": {},
   "outputs": [
    {
     "data": {
      "text/plain": [
       "('s', 't', 'r', 'i', 'n', 'g')"
      ]
     },
     "execution_count": 18,
     "metadata": {},
     "output_type": "execute_result"
    }
   ],
   "source": [
    "tup"
   ]
  },
  {
   "cell_type": "markdown",
   "id": "3d61797a",
   "metadata": {},
   "source": [
    "#### 元组不可改变，但是元组对象为列表时，列表可以在原位修改"
   ]
  },
  {
   "cell_type": "code",
   "execution_count": 2,
   "id": "4240c012",
   "metadata": {},
   "outputs": [
    {
     "data": {
      "text/plain": [
       "('foo', [1, 2, 3], True)"
      ]
     },
     "execution_count": 2,
     "metadata": {},
     "output_type": "execute_result"
    }
   ],
   "source": [
    "tup=tuple(['foo',[1,2],True])\n",
    "tup[1].append(3)\n",
    "tup\n"
   ]
  },
  {
   "cell_type": "markdown",
   "id": "8e258c4d",
   "metadata": {},
   "source": [
    "#### 元组乘以整数，像列表一样，将几个元组的复制串联起来"
   ]
  },
  {
   "cell_type": "code",
   "execution_count": 85,
   "id": "59c70217",
   "metadata": {},
   "outputs": [
    {
     "data": {
      "text/plain": [
       "5"
      ]
     },
     "execution_count": 85,
     "metadata": {},
     "output_type": "execute_result"
    }
   ],
   "source": [
    "tup=4,5,6\n",
    "a,b,c=tup\n",
    "b"
   ]
  },
  {
   "cell_type": "code",
   "execution_count": 87,
   "id": "1ae4b0ca",
   "metadata": {},
   "outputs": [
    {
     "data": {
      "text/plain": [
       "(4, 5, 6, 4, 5, 6, 4, 5, 6, 4, 5, 6)"
      ]
     },
     "execution_count": 87,
     "metadata": {},
     "output_type": "execute_result"
    }
   ],
   "source": [
    "tup=tup*2\n",
    "tup"
   ]
  },
  {
   "cell_type": "markdown",
   "id": "43141911",
   "metadata": {},
   "source": [
    "#### 拆分元组功能使变量替换更加方便"
   ]
  },
  {
   "cell_type": "code",
   "execution_count": 4,
   "id": "f14a3b7a",
   "metadata": {},
   "outputs": [
    {
     "data": {
      "text/plain": [
       "2"
      ]
     },
     "execution_count": 4,
     "metadata": {},
     "output_type": "execute_result"
    }
   ],
   "source": [
    "a,b=1,2\n",
    "a\n",
    "b"
   ]
  },
  {
   "cell_type": "code",
   "execution_count": 5,
   "id": "349c1992",
   "metadata": {},
   "outputs": [
    {
     "data": {
      "text/plain": [
       "1"
      ]
     },
     "execution_count": 5,
     "metadata": {},
     "output_type": "execute_result"
    }
   ],
   "source": [
    "a"
   ]
  },
  {
   "cell_type": "code",
   "execution_count": 6,
   "id": "95c279a7",
   "metadata": {},
   "outputs": [
    {
     "data": {
      "text/plain": [
       "2"
      ]
     },
     "execution_count": 6,
     "metadata": {},
     "output_type": "execute_result"
    }
   ],
   "source": [
    "b"
   ]
  },
  {
   "cell_type": "code",
   "execution_count": 7,
   "id": "89223a1e",
   "metadata": {},
   "outputs": [],
   "source": [
    "b,a=a,b"
   ]
  },
  {
   "cell_type": "code",
   "execution_count": 8,
   "id": "f2c823e9",
   "metadata": {},
   "outputs": [
    {
     "data": {
      "text/plain": [
       "2"
      ]
     },
     "execution_count": 8,
     "metadata": {},
     "output_type": "execute_result"
    }
   ],
   "source": [
    "a"
   ]
  },
  {
   "cell_type": "code",
   "execution_count": 9,
   "id": "aa0e71ff",
   "metadata": {},
   "outputs": [
    {
     "data": {
      "text/plain": [
       "1"
      ]
     },
     "execution_count": 9,
     "metadata": {},
     "output_type": "execute_result"
    }
   ],
   "source": [
    "b"
   ]
  },
  {
   "cell_type": "markdown",
   "id": "0ed51a46",
   "metadata": {},
   "source": [
    "#### 另一种变量拆分方式*rest"
   ]
  },
  {
   "cell_type": "code",
   "execution_count": 13,
   "id": "23fe3016",
   "metadata": {},
   "outputs": [
    {
     "data": {
      "text/plain": [
       "[3, 4, 5]"
      ]
     },
     "execution_count": 13,
     "metadata": {},
     "output_type": "execute_result"
    }
   ],
   "source": [
    "values=1,2,3,4,5\n",
    "a,b,*rest=values\n",
    "rest"
   ]
  },
  {
   "cell_type": "markdown",
   "id": "d105ebd3",
   "metadata": {},
   "source": [
    "### 列表"
   ]
  },
  {
   "cell_type": "code",
   "execution_count": 14,
   "id": "0658ffef",
   "metadata": {},
   "outputs": [
    {
     "data": {
      "text/plain": [
       "['foo', 'bar', 'baz']"
      ]
     },
     "execution_count": 14,
     "metadata": {},
     "output_type": "execute_result"
    }
   ],
   "source": [
    "a_list =2,3,7,None\n",
    "tup=('foo','bar','baz')\n",
    "b_list=list(tup)\n",
    "b_list"
   ]
  },
  {
   "cell_type": "code",
   "execution_count": 15,
   "id": "8302df0a",
   "metadata": {},
   "outputs": [
    {
     "data": {
      "text/plain": [
       "['foo', 'peekaboo', 'baz']"
      ]
     },
     "execution_count": 15,
     "metadata": {},
     "output_type": "execute_result"
    }
   ],
   "source": [
    "b_list[1]='peekaboo'\n",
    "b_list"
   ]
  },
  {
   "cell_type": "markdown",
   "id": "0b17651f",
   "metadata": {},
   "source": [
    "#### 列表常用来实体化迭代器或生成器"
   ]
  },
  {
   "cell_type": "code",
   "execution_count": 16,
   "id": "d98c30a6",
   "metadata": {},
   "outputs": [
    {
     "data": {
      "text/plain": [
       "range(0, 10)"
      ]
     },
     "execution_count": 16,
     "metadata": {},
     "output_type": "execute_result"
    }
   ],
   "source": [
    "gen=range(10)\n",
    "gen"
   ]
  },
  {
   "cell_type": "code",
   "execution_count": 17,
   "id": "2f5a40cc",
   "metadata": {},
   "outputs": [
    {
     "data": {
      "text/plain": [
       "[0, 1, 2, 3, 4, 5, 6, 7, 8, 9]"
      ]
     },
     "execution_count": 17,
     "metadata": {},
     "output_type": "execute_result"
    }
   ],
   "source": [
    "list(gen)"
   ]
  },
  {
   "cell_type": "markdown",
   "id": "3dff001c",
   "metadata": {},
   "source": [
    "#### 添加和删除元素 append insert pop remove"
   ]
  },
  {
   "cell_type": "code",
   "execution_count": 30,
   "id": "bef3ab03",
   "metadata": {},
   "outputs": [],
   "source": [
    "b_list.append('dwarf')"
   ]
  },
  {
   "cell_type": "code",
   "execution_count": 27,
   "id": "3e41b74c",
   "metadata": {},
   "outputs": [
    {
     "data": {
      "text/plain": [
       "['foo',\n",
       " 'red',\n",
       " 'baz',\n",
       " 'dwarf',\n",
       " 'dwarf',\n",
       " 7,\n",
       " 8,\n",
       " (2, 30),\n",
       " 7,\n",
       " 8,\n",
       " (2, 30),\n",
       " 7,\n",
       " 8,\n",
       " (2, 30),\n",
       " 7,\n",
       " 8,\n",
       " (2, 30)]"
      ]
     },
     "execution_count": 27,
     "metadata": {},
     "output_type": "execute_result"
    }
   ],
   "source": [
    "b_list.extend([7,8,(2,30)])\n",
    "b_list"
   ]
  },
  {
   "cell_type": "code",
   "execution_count": 19,
   "id": "49141b5a",
   "metadata": {},
   "outputs": [
    {
     "data": {
      "text/plain": [
       "['foo', 'red', 'peekaboo', 'baz', 'dwarf']"
      ]
     },
     "execution_count": 19,
     "metadata": {},
     "output_type": "execute_result"
    }
   ],
   "source": [
    "b_list.insert(1,'red')\n",
    "b_list"
   ]
  },
  {
   "cell_type": "code",
   "execution_count": 20,
   "id": "26cb7f68",
   "metadata": {},
   "outputs": [
    {
     "data": {
      "text/plain": [
       "'peekaboo'"
      ]
     },
     "execution_count": 20,
     "metadata": {},
     "output_type": "execute_result"
    }
   ],
   "source": [
    "b_list.pop(2)"
   ]
  },
  {
   "cell_type": "code",
   "execution_count": 21,
   "id": "2beef101",
   "metadata": {},
   "outputs": [
    {
     "data": {
      "text/plain": [
       "['foo', 'red', 'baz', 'dwarf']"
      ]
     },
     "execution_count": 21,
     "metadata": {},
     "output_type": "execute_result"
    }
   ],
   "source": [
    "b_list"
   ]
  },
  {
   "cell_type": "markdown",
   "id": "28f608f4",
   "metadata": {},
   "source": [
    "#### 列表检索in 排序sort （二级排序key）"
   ]
  },
  {
   "cell_type": "code",
   "execution_count": 31,
   "id": "4681d6c4",
   "metadata": {},
   "outputs": [
    {
     "data": {
      "text/plain": [
       "True"
      ]
     },
     "execution_count": 31,
     "metadata": {},
     "output_type": "execute_result"
    }
   ],
   "source": [
    "'dwarf' in b_list"
   ]
  },
  {
   "cell_type": "code",
   "execution_count": 33,
   "id": "64e4cef2",
   "metadata": {},
   "outputs": [
    {
     "data": {
      "text/plain": [
       "[1, 2, 3, 5, 7]"
      ]
     },
     "execution_count": 33,
     "metadata": {},
     "output_type": "execute_result"
    }
   ],
   "source": [
    "a=[7,2,5,1,3]\n",
    "a.sort()\n",
    "a"
   ]
  },
  {
   "cell_type": "code",
   "execution_count": 34,
   "id": "aab8a673",
   "metadata": {},
   "outputs": [
    {
     "data": {
      "text/plain": [
       "['he', 'saw', 'six', 'small', 'foxes']"
      ]
     },
     "execution_count": 34,
     "metadata": {},
     "output_type": "execute_result"
    }
   ],
   "source": [
    "b=['saw','small','he','foxes','six']\n",
    "b.sort(key=len)##按照字母长度对序列进行排序\n",
    "b"
   ]
  },
  {
   "cell_type": "code",
   "execution_count": 35,
   "id": "d1a42d26",
   "metadata": {},
   "outputs": [
    {
     "data": {
      "text/plain": [
       "4"
      ]
     },
     "execution_count": 35,
     "metadata": {},
     "output_type": "execute_result"
    }
   ],
   "source": [
    "import bisect\n",
    "c=[1,2,2,2,3,4,7]\n",
    "bisect.bisect(c,2)"
   ]
  },
  {
   "cell_type": "code",
   "execution_count": 36,
   "id": "7c7eb700",
   "metadata": {},
   "outputs": [
    {
     "data": {
      "text/plain": [
       "6"
      ]
     },
     "execution_count": 36,
     "metadata": {},
     "output_type": "execute_result"
    }
   ],
   "source": [
    "bisect.bisect(c,5)\n"
   ]
  },
  {
   "cell_type": "code",
   "execution_count": 37,
   "id": "97a7ab2a",
   "metadata": {},
   "outputs": [
    {
     "data": {
      "text/plain": [
       "[1, 2, 2, 2, 3, 4, 6, 7]"
      ]
     },
     "execution_count": 37,
     "metadata": {},
     "output_type": "execute_result"
    }
   ],
   "source": [
    "bisect.insort(c,6)\n",
    "c"
   ]
  },
  {
   "cell_type": "markdown",
   "id": "44680b4e",
   "metadata": {},
   "source": [
    "#### 切片【start：stop】\n",
    "#### 切片可以被序列赋值\n",
    "#### 切片包含头不包含尾，元素个数为stop-start\n",
    "#### ::表示间隔切片\n",
    "\n"
   ]
  },
  {
   "cell_type": "code",
   "execution_count": 38,
   "id": "33cbbc80",
   "metadata": {},
   "outputs": [
    {
     "data": {
      "text/plain": [
       "[7]"
      ]
     },
     "execution_count": 38,
     "metadata": {},
     "output_type": "execute_result"
    }
   ],
   "source": [
    "seq=[7,2,3,7,5,6,0,1]\n",
    "seq[3:4]"
   ]
  },
  {
   "cell_type": "code",
   "execution_count": 39,
   "id": "822825bb",
   "metadata": {},
   "outputs": [
    {
     "data": {
      "text/plain": [
       "[3, 7, 5, 6, 0]"
      ]
     },
     "execution_count": 39,
     "metadata": {},
     "output_type": "execute_result"
    }
   ],
   "source": [
    "seq[2:7]"
   ]
  },
  {
   "cell_type": "code",
   "execution_count": 40,
   "id": "e1187bf7",
   "metadata": {},
   "outputs": [],
   "source": [
    "seq[3:4]=[6,3]"
   ]
  },
  {
   "cell_type": "code",
   "execution_count": 41,
   "id": "662d61e3",
   "metadata": {},
   "outputs": [
    {
     "data": {
      "text/plain": [
       "[7, 2, 3, 6, 3, 5, 6, 0, 1]"
      ]
     },
     "execution_count": 41,
     "metadata": {},
     "output_type": "execute_result"
    }
   ],
   "source": [
    "seq"
   ]
  },
  {
   "cell_type": "code",
   "execution_count": 42,
   "id": "5d66a9c3",
   "metadata": {},
   "outputs": [
    {
     "data": {
      "text/plain": [
       "[7, 2, 3, 6, 3]"
      ]
     },
     "execution_count": 42,
     "metadata": {},
     "output_type": "execute_result"
    }
   ],
   "source": [
    "seq[:5]"
   ]
  },
  {
   "cell_type": "code",
   "execution_count": 43,
   "id": "5f9101d6",
   "metadata": {},
   "outputs": [
    {
     "data": {
      "text/plain": [
       "[6, 3, 5, 6, 0, 1]"
      ]
     },
     "execution_count": 43,
     "metadata": {},
     "output_type": "execute_result"
    }
   ],
   "source": [
    "seq[3:]"
   ]
  },
  {
   "cell_type": "code",
   "execution_count": 44,
   "id": "72ed5a6e",
   "metadata": {},
   "outputs": [
    {
     "data": {
      "text/plain": [
       "[5, 6, 0, 1]"
      ]
     },
     "execution_count": 44,
     "metadata": {},
     "output_type": "execute_result"
    }
   ],
   "source": [
    "seq[-4:]"
   ]
  },
  {
   "cell_type": "code",
   "execution_count": 45,
   "id": "cce14f0e",
   "metadata": {},
   "outputs": [
    {
     "data": {
      "text/plain": [
       "[6, 3, 5, 6]"
      ]
     },
     "execution_count": 45,
     "metadata": {},
     "output_type": "execute_result"
    }
   ],
   "source": [
    "seq[-6:-2]"
   ]
  },
  {
   "cell_type": "code",
   "execution_count": 46,
   "id": "3306c5f9",
   "metadata": {},
   "outputs": [
    {
     "data": {
      "text/plain": [
       "[1, 0, 6, 5, 3, 6, 3, 2, 7]"
      ]
     },
     "execution_count": 46,
     "metadata": {},
     "output_type": "execute_result"
    }
   ],
   "source": [
    "seq[::-1]"
   ]
  },
  {
   "cell_type": "code",
   "execution_count": 48,
   "id": "28e81f8b",
   "metadata": {},
   "outputs": [
    {
     "data": {
      "text/plain": [
       "[7, 3, 3, 6, 1]"
      ]
     },
     "execution_count": 48,
     "metadata": {},
     "output_type": "execute_result"
    }
   ],
   "source": [
    "seq[::2]"
   ]
  },
  {
   "cell_type": "markdown",
   "id": "9f7ff8ac",
   "metadata": {},
   "source": [
    "#### enumberate函数 跟踪当前项的序号"
   ]
  },
  {
   "cell_type": "code",
   "execution_count": 49,
   "id": "a79bd466",
   "metadata": {},
   "outputs": [
    {
     "name": "stdout",
     "output_type": "stream",
     "text": [
      "Index 0: apple\n",
      "Index 1: banana\n",
      "Index 2: cherry\n",
      "Index 3: date\n"
     ]
    }
   ],
   "source": [
    "fruits = ['apple', 'banana', 'cherry', 'date']\n",
    "for index, fruit in enumerate(fruits):\n",
    "    print(f\"Index {index}: {fruit}\")"
   ]
  },
  {
   "cell_type": "markdown",
   "id": "e9a33f90",
   "metadata": {},
   "source": [
    "#### sorted函数 可以从任意序列的元素返回一个新的排好序的列表"
   ]
  },
  {
   "cell_type": "code",
   "execution_count": 50,
   "id": "2bf4915c",
   "metadata": {},
   "outputs": [
    {
     "data": {
      "text/plain": [
       "[0, 1, 2, 2, 3, 6, 7]"
      ]
     },
     "execution_count": 50,
     "metadata": {},
     "output_type": "execute_result"
    }
   ],
   "source": [
    "sorted([7,1,2,6,0,3,2])"
   ]
  },
  {
   "cell_type": "code",
   "execution_count": 51,
   "id": "d1682c46",
   "metadata": {},
   "outputs": [
    {
     "data": {
      "text/plain": [
       "[' ',\n",
       " ' ',\n",
       " 'C',\n",
       " 'S',\n",
       " 'U',\n",
       " 'a',\n",
       " 'e',\n",
       " 'h',\n",
       " 'i',\n",
       " 'i',\n",
       " 'l',\n",
       " 'n',\n",
       " 'n',\n",
       " 'o',\n",
       " 'r',\n",
       " 's',\n",
       " 't',\n",
       " 't',\n",
       " 't',\n",
       " 'u',\n",
       " 'y']"
      ]
     },
     "execution_count": 51,
     "metadata": {},
     "output_type": "execute_result"
    }
   ],
   "source": [
    "sorted('Central South Unisity')"
   ]
  },
  {
   "cell_type": "markdown",
   "id": "7f738908",
   "metadata": {},
   "source": [
    "#### zip函数 列表的组合函数\n"
   ]
  },
  {
   "cell_type": "code",
   "execution_count": 52,
   "id": "31087826",
   "metadata": {},
   "outputs": [
    {
     "name": "stdout",
     "output_type": "stream",
     "text": [
      "Alice: 95\n",
      "Bob: 87\n",
      "Charlie: 92\n"
     ]
    }
   ],
   "source": [
    "names = ['Alice', 'Bob', 'Charlie']\n",
    "scores = [95, 87, 92]\n",
    "\n",
    "for name, score in zip(names, scores):\n",
    "    print(f\"{name}: {score}\")"
   ]
  },
  {
   "cell_type": "code",
   "execution_count": 55,
   "id": "24c23c5b",
   "metadata": {},
   "outputs": [
    {
     "data": {
      "text/plain": [
       "[('Alice', 95), ('Bob', 87), ('Charlie', 92)]"
      ]
     },
     "execution_count": 55,
     "metadata": {},
     "output_type": "execute_result"
    }
   ],
   "source": [
    "list(zip(names,scores))"
   ]
  },
  {
   "cell_type": "markdown",
   "id": "30cae51c",
   "metadata": {},
   "source": [
    "#### zip 和enumberate函数的组合使用"
   ]
  },
  {
   "cell_type": "code",
   "execution_count": 56,
   "id": "b2ab31ab",
   "metadata": {},
   "outputs": [
    {
     "name": "stdout",
     "output_type": "stream",
     "text": [
      "Index 0: Alice - 95\n",
      "Index 1: Bob - 87\n",
      "Index 2: Charlie - 92\n"
     ]
    }
   ],
   "source": [
    "names = ['Alice', 'Bob', 'Charlie']\n",
    "scores = [95, 87, 92]\n",
    "\n",
    "for index, (name, score) in enumerate(zip(names, scores)):\n",
    "    print(f\"Index {index}: {name} - {score}\")"
   ]
  },
  {
   "cell_type": "markdown",
   "id": "3a8e0be6",
   "metadata": {},
   "source": [
    "#### reversed函数"
   ]
  },
  {
   "cell_type": "code",
   "execution_count": 73,
   "id": "b7cc4f72",
   "metadata": {},
   "outputs": [
    {
     "data": {
      "text/plain": [
       "[9, 8, 7, 6, 5, 4, 3, 2, 1, 0]"
      ]
     },
     "execution_count": 73,
     "metadata": {},
     "output_type": "execute_result"
    }
   ],
   "source": [
    "list(reversed(range(10)))"
   ]
  },
  {
   "cell_type": "markdown",
   "id": "7d49240a",
   "metadata": {},
   "source": [
    "### 字典\n",
    "#### in del pop 同样适用"
   ]
  },
  {
   "cell_type": "code",
   "execution_count": 63,
   "id": "326191a7",
   "metadata": {},
   "outputs": [
    {
     "data": {
      "text/plain": [
       "{'a': 'some value', 'b': [1, 2, 3, 4]}"
      ]
     },
     "execution_count": 63,
     "metadata": {},
     "output_type": "execute_result"
    }
   ],
   "source": [
    "d1 = {\"a\": \"some value\", \"b\": [1, 2, 3, 4]}\n",
    "d1"
   ]
  },
  {
   "cell_type": "code",
   "execution_count": 64,
   "id": "c38ee6ff",
   "metadata": {},
   "outputs": [],
   "source": [
    "d1[7]='an integer'"
   ]
  },
  {
   "cell_type": "code",
   "execution_count": 65,
   "id": "4c9fbf0b",
   "metadata": {},
   "outputs": [
    {
     "data": {
      "text/plain": [
       "{'a': 'some value', 'b': [1, 2, 3, 4], 7: 'an integer'}"
      ]
     },
     "execution_count": 65,
     "metadata": {},
     "output_type": "execute_result"
    }
   ],
   "source": [
    "d1"
   ]
  },
  {
   "cell_type": "code",
   "execution_count": 66,
   "id": "cf99c610",
   "metadata": {},
   "outputs": [
    {
     "data": {
      "text/plain": [
       "'some value'"
      ]
     },
     "execution_count": 66,
     "metadata": {},
     "output_type": "execute_result"
    }
   ],
   "source": [
    "d1['a']"
   ]
  },
  {
   "cell_type": "code",
   "execution_count": 77,
   "id": "7b1c275a",
   "metadata": {},
   "outputs": [
    {
     "data": {
      "text/plain": [
       "{'a': 'some value',\n",
       " 'b': [1, 2, 3, 4],\n",
       " 7: 'an integer',\n",
       " 'dummy': 'another value',\n",
       " 5: 'some value'}"
      ]
     },
     "execution_count": 77,
     "metadata": {},
     "output_type": "execute_result"
    }
   ],
   "source": [
    "d1[5]='some value'\n",
    "d1"
   ]
  },
  {
   "cell_type": "code",
   "execution_count": 76,
   "id": "38ddc1d1",
   "metadata": {},
   "outputs": [
    {
     "data": {
      "text/plain": [
       "{'a': 'some value',\n",
       " 'b': [1, 2, 3, 4],\n",
       " 7: 'an integer',\n",
       " 'dummy': 'another value'}"
      ]
     },
     "execution_count": 76,
     "metadata": {},
     "output_type": "execute_result"
    }
   ],
   "source": [
    "d1['dummy']='another value'\n",
    "d1"
   ]
  },
  {
   "cell_type": "code",
   "execution_count": 69,
   "id": "f31d8fae",
   "metadata": {},
   "outputs": [],
   "source": [
    "del d1[5]"
   ]
  },
  {
   "cell_type": "code",
   "execution_count": 70,
   "id": "ce2ba84e",
   "metadata": {},
   "outputs": [
    {
     "data": {
      "text/plain": [
       "{'a': 'some value',\n",
       " 'b': [1, 2, 3, 4],\n",
       " 7: 'an integer',\n",
       " 'dummy': 'another value'}"
      ]
     },
     "execution_count": 70,
     "metadata": {},
     "output_type": "execute_result"
    }
   ],
   "source": [
    "d1"
   ]
  },
  {
   "cell_type": "code",
   "execution_count": 78,
   "id": "9357bbee",
   "metadata": {},
   "outputs": [],
   "source": [
    "ret=d1.pop('dummy')"
   ]
  },
  {
   "cell_type": "code",
   "execution_count": 79,
   "id": "72feb808",
   "metadata": {},
   "outputs": [
    {
     "data": {
      "text/plain": [
       "'another value'"
      ]
     },
     "execution_count": 79,
     "metadata": {},
     "output_type": "execute_result"
    }
   ],
   "source": [
    "ret"
   ]
  },
  {
   "cell_type": "markdown",
   "id": "4f68f9ca",
   "metadata": {},
   "source": [
    "#### keys ,items和values函数的用法"
   ]
  },
  {
   "cell_type": "code",
   "execution_count": 81,
   "id": "0f28b7bb",
   "metadata": {},
   "outputs": [
    {
     "data": {
      "text/plain": [
       "['a', 'b', 7, 5]"
      ]
     },
     "execution_count": 81,
     "metadata": {},
     "output_type": "execute_result"
    }
   ],
   "source": [
    "list(d1.keys())"
   ]
  },
  {
   "cell_type": "code",
   "execution_count": 82,
   "id": "250cf649",
   "metadata": {},
   "outputs": [
    {
     "data": {
      "text/plain": [
       "['some value', [1, 2, 3, 4], 'an integer', 'some value']"
      ]
     },
     "execution_count": 82,
     "metadata": {},
     "output_type": "execute_result"
    }
   ],
   "source": [
    "list(d1.values())"
   ]
  },
  {
   "cell_type": "code",
   "execution_count": 84,
   "id": "b7f9c2d9",
   "metadata": {},
   "outputs": [
    {
     "data": {
      "text/plain": [
       "[('a', 'some value'),\n",
       " ('b', [1, 2, 3, 4]),\n",
       " (7, 'an integer'),\n",
       " (5, 'some value')]"
      ]
     },
     "execution_count": 84,
     "metadata": {},
     "output_type": "execute_result"
    }
   ],
   "source": [
    "list(d1.items())"
   ]
  },
  {
   "cell_type": "markdown",
   "id": "ef33e3c3",
   "metadata": {},
   "source": [
    "#### upadte函数"
   ]
  },
  {
   "cell_type": "code",
   "execution_count": 88,
   "id": "4785dff1",
   "metadata": {},
   "outputs": [
    {
     "data": {
      "text/plain": [
       "{'a': 'some value', 'b': 'foo', 7: 'an integer', 5: 'some value', 'c': 12}"
      ]
     },
     "execution_count": 88,
     "metadata": {},
     "output_type": "execute_result"
    }
   ],
   "source": [
    "d1.update({'b':'foo','c':12})\n",
    "d1"
   ]
  },
  {
   "cell_type": "markdown",
   "id": "7f21ab1a",
   "metadata": {},
   "source": [
    "#### 用序列创建字典"
   ]
  },
  {
   "cell_type": "code",
   "execution_count": 97,
   "id": "a0492971",
   "metadata": {},
   "outputs": [
    {
     "data": {
      "text/plain": [
       "{'a': 1, 'b': 2, 'c': 3, 'd': 4, 'e': 5}"
      ]
     },
     "execution_count": 97,
     "metadata": {},
     "output_type": "execute_result"
    }
   ],
   "source": [
    "mapping={}\n",
    "key_list='a','b','c','d','e'\n",
    "value_list=1,2,3,4,5\n",
    "for key,value in zip(key_list,value_list):\n",
    "    mapping[key]=value\n",
    "mapping"
   ]
  },
  {
   "cell_type": "code",
   "execution_count": 93,
   "id": "9aba40bd",
   "metadata": {},
   "outputs": [
    {
     "data": {
      "text/plain": [
       "{0: 4, 1: 3, 2: 2, 3: 1, 4: 0}"
      ]
     },
     "execution_count": 93,
     "metadata": {},
     "output_type": "execute_result"
    }
   ],
   "source": [
    "mapping = dict(zip(range(5),reversed(range(5))))\n",
    "mapping"
   ]
  },
  {
   "cell_type": "markdown",
   "id": "4a179581",
   "metadata": {},
   "source": [
    "#### setdefault 方法,collections模块的defaultdict函数"
   ]
  },
  {
   "cell_type": "code",
   "execution_count": 10,
   "id": "80c4d2d3",
   "metadata": {},
   "outputs": [
    {
     "data": {
      "text/plain": [
       "{'a': ['apple', 'atom'], 'b': ['bat', 'bar', 'book']}"
      ]
     },
     "execution_count": 10,
     "metadata": {},
     "output_type": "execute_result"
    }
   ],
   "source": [
    "words = [\"apple\", \"bat\", \"bar\", \"atom\", \"book\"]\n",
    "by_letter={}\n",
    "for word in words:\n",
    "    letter=word[0]\n",
    "    if letter not in by_letter:\n",
    "        by_letter[letter]=[word]\n",
    "    else:\n",
    "        by_letter[letter].append(word)\n",
    "by_letter"
   ]
  },
  {
   "cell_type": "code",
   "execution_count": 12,
   "id": "8a54993b",
   "metadata": {},
   "outputs": [
    {
     "data": {
      "text/plain": [
       "{'a': ['apple', 'atom', 'apple', 'atom', 'apple', 'atom'],\n",
       " 'b': ['bat', 'bar', 'book', 'bat', 'bar', 'book', 'bat', 'bar', 'book']}"
      ]
     },
     "execution_count": 12,
     "metadata": {},
     "output_type": "execute_result"
    }
   ],
   "source": [
    "for word in words:\n",
    "    letter = word[0]\n",
    "    by_letter.setdefault(letter,[]).append(word)\n",
    "by_letter"
   ]
  },
  {
   "cell_type": "code",
   "execution_count": 14,
   "id": "1dfb6b3f",
   "metadata": {},
   "outputs": [
    {
     "data": {
      "text/plain": [
       "defaultdict(list, {'a': ['apple', 'atom'], 'b': ['bat', 'bar', 'book']})"
      ]
     },
     "execution_count": 14,
     "metadata": {},
     "output_type": "execute_result"
    }
   ],
   "source": [
    "from collections import defaultdict\n",
    "by_letter = defaultdict(list)\n",
    "for word in words:\n",
    "    by_letter[word[0]].append(word)\n",
    "by_letter"
   ]
  },
  {
   "cell_type": "markdown",
   "id": "9cc46e1f",
   "metadata": {},
   "source": [
    "#### 有效的键类型 （可哈希）"
   ]
  },
  {
   "cell_type": "code",
   "execution_count": 15,
   "id": "6263da7a",
   "metadata": {},
   "outputs": [
    {
     "data": {
      "text/plain": [
       "{(1, 2, 3): 5}"
      ]
     },
     "execution_count": 15,
     "metadata": {},
     "output_type": "execute_result"
    }
   ],
   "source": [
    "d={}\n",
    "d[tuple([1,2,3])]=5\n",
    "d"
   ]
  },
  {
   "cell_type": "markdown",
   "id": "8a85ae69",
   "metadata": {},
   "source": [
    "#### 集合的概念 元素没有重复\n",
    "#### 集合的交集，并集，补集等数学运算与数学上的逻辑运算一样，在python中有自己的函数"
   ]
  },
  {
   "cell_type": "code",
   "execution_count": 18,
   "id": "548a38f4",
   "metadata": {},
   "outputs": [
    {
     "data": {
      "text/plain": [
       "{1, 2, 3}"
      ]
     },
     "execution_count": 18,
     "metadata": {},
     "output_type": "execute_result"
    }
   ],
   "source": [
    "set([2,2,2,1,3,3])"
   ]
  },
  {
   "cell_type": "code",
   "execution_count": 19,
   "id": "d90e5001",
   "metadata": {},
   "outputs": [
    {
     "data": {
      "text/plain": [
       "{1, 2, 3}"
      ]
     },
     "execution_count": 19,
     "metadata": {},
     "output_type": "execute_result"
    }
   ],
   "source": [
    "{2,2,2,1,3,3}"
   ]
  },
  {
   "cell_type": "code",
   "execution_count": 20,
   "id": "44d8095f",
   "metadata": {},
   "outputs": [
    {
     "data": {
      "text/plain": [
       "{1, 2, 3, 4, 5, 6, 7, 8}"
      ]
     },
     "execution_count": 20,
     "metadata": {},
     "output_type": "execute_result"
    }
   ],
   "source": [
    "a={1,2,3,4,5}\n",
    "b={3,4,5,6,7,8}\n",
    "a.union(b)"
   ]
  },
  {
   "cell_type": "code",
   "execution_count": 21,
   "id": "3e1c75bd",
   "metadata": {},
   "outputs": [
    {
     "data": {
      "text/plain": [
       "{1, 2, 3, 4, 5, 6, 7, 8}"
      ]
     },
     "execution_count": 21,
     "metadata": {},
     "output_type": "execute_result"
    }
   ],
   "source": [
    "a|b## 和union一样"
   ]
  },
  {
   "cell_type": "code",
   "execution_count": 22,
   "id": "d2a12b89",
   "metadata": {},
   "outputs": [
    {
     "data": {
      "text/plain": [
       "{3, 4, 5}"
      ]
     },
     "execution_count": 22,
     "metadata": {},
     "output_type": "execute_result"
    }
   ],
   "source": [
    "a.intersection(b)"
   ]
  },
  {
   "cell_type": "code",
   "execution_count": 23,
   "id": "31a57bc9",
   "metadata": {},
   "outputs": [
    {
     "data": {
      "text/plain": [
       "{3, 4, 5}"
      ]
     },
     "execution_count": 23,
     "metadata": {},
     "output_type": "execute_result"
    }
   ],
   "source": [
    "a&b"
   ]
  },
  {
   "cell_type": "code",
   "execution_count": 27,
   "id": "75ee5701",
   "metadata": {},
   "outputs": [
    {
     "ename": "AttributeError",
     "evalue": "'builtin_function_or_method' object has no attribute 'union'",
     "output_type": "error",
     "traceback": [
      "\u001b[1;31m---------------------------------------------------------------------------\u001b[0m",
      "\u001b[1;31mAttributeError\u001b[0m                            Traceback (most recent call last)",
      "Cell \u001b[1;32mIn[27], line 2\u001b[0m\n\u001b[0;32m      1\u001b[0m c\u001b[38;5;241m=\u001b[39ma\u001b[38;5;241m.\u001b[39mcopy\n\u001b[1;32m----> 2\u001b[0m c\u001b[38;5;241m=\u001b[39m c\u001b[38;5;241m.\u001b[39munion(b)\n\u001b[0;32m      3\u001b[0m c\n",
      "\u001b[1;31mAttributeError\u001b[0m: 'builtin_function_or_method' object has no attribute 'union'"
     ]
    }
   ],
   "source": [
    "c=a.copy\n",
    "c= c.union(b)\n",
    "c"
   ]
  },
  {
   "cell_type": "code",
   "execution_count": null,
   "id": "2f7fe84f",
   "metadata": {},
   "outputs": [],
   "source": []
  }
 ],
 "metadata": {
  "kernelspec": {
   "display_name": "Python 3 (ipykernel)",
   "language": "python",
   "name": "python3"
  },
  "language_info": {
   "codemirror_mode": {
    "name": "ipython",
    "version": 3
   },
   "file_extension": ".py",
   "mimetype": "text/x-python",
   "name": "python",
   "nbconvert_exporter": "python",
   "pygments_lexer": "ipython3",
   "version": "3.11.4"
  }
 },
 "nbformat": 4,
 "nbformat_minor": 5
}
