{
 "cells": [
  {
   "cell_type": "markdown",
   "id": "7b11e55d",
   "metadata": {},
   "source": [
    "## numpy创建数组"
   ]
  },
  {
   "cell_type": "code",
   "execution_count": 5,
   "id": "b549f975",
   "metadata": {},
   "outputs": [
    {
     "data": {
      "text/plain": [
       "array([[1, 2],\n",
       "       [3, 4]])"
      ]
     },
     "execution_count": 5,
     "metadata": {},
     "output_type": "execute_result"
    }
   ],
   "source": [
    "import numpy as np\n",
    "from matplotlib import pyplot as plt\n",
    "a=np.array([[1,2],[3,4]])\n",
    "a\n"
   ]
  },
  {
   "cell_type": "markdown",
   "id": "45a35c4c",
   "metadata": {},
   "source": [
    "#### 二维数组标识ndimn"
   ]
  },
  {
   "cell_type": "code",
   "execution_count": 6,
   "id": "38ba002a",
   "metadata": {},
   "outputs": [
    {
     "data": {
      "text/plain": [
       "array([[1, 2, 3, 4, 5, 6]])"
      ]
     },
     "execution_count": 6,
     "metadata": {},
     "output_type": "execute_result"
    }
   ],
   "source": [
    "a=np.array([1,2,3,4,5,6],ndmin=2)\n",
    "a"
   ]
  },
  {
   "cell_type": "markdown",
   "id": "eb52b51e",
   "metadata": {},
   "source": [
    "#### 随机初始化数组empty\n"
   ]
  },
  {
   "cell_type": "code",
   "execution_count": 8,
   "id": "84cce872",
   "metadata": {},
   "outputs": [
    {
     "data": {
      "text/plain": [
       "array([[1.01582801e+094, 3.54586565e+068],\n",
       "       [1.57001898e+155, 3.71754479e+177],\n",
       "       [3.97949006e-315, 0.00000000e+000]])"
      ]
     },
     "execution_count": 8,
     "metadata": {},
     "output_type": "execute_result"
    }
   ],
   "source": [
    "x= np.empty([3,2],dtype=int)\n",
    "x\n",
    "x= np.empty([3,2],dtype=float)\n",
    "x"
   ]
  },
  {
   "cell_type": "markdown",
   "id": "1930a62b",
   "metadata": {},
   "source": [
    "#### 初始化全0数组zeros ones"
   ]
  },
  {
   "cell_type": "code",
   "execution_count": 10,
   "id": "68f8154e",
   "metadata": {},
   "outputs": [
    {
     "data": {
      "text/plain": [
       "array([1., 1., 1., 1., 1., 1., 1., 1., 1., 1., 1., 1., 1., 1., 1., 1., 1.,\n",
       "       1., 1., 1., 1., 1., 1., 1., 1., 1., 1., 1., 1., 1., 1., 1., 1., 1.,\n",
       "       1., 1., 1., 1., 1., 1., 1., 1., 1., 1., 1., 1., 1., 1., 1., 1., 1.,\n",
       "       1., 1.])"
      ]
     },
     "execution_count": 10,
     "metadata": {},
     "output_type": "execute_result"
    }
   ],
   "source": [
    "x=np.ones(53)\n",
    "x"
   ]
  },
  {
   "cell_type": "code",
   "execution_count": 11,
   "id": "348e2c7d",
   "metadata": {},
   "outputs": [
    {
     "data": {
      "text/plain": [
       "array([0., 0., 0., 0., 0., 0., 0., 0., 0., 0., 0., 0., 0., 0., 0., 0., 0.,\n",
       "       0., 0., 0., 0., 0., 0., 0., 0., 0., 0., 0., 0., 0., 0., 0., 0., 0.,\n",
       "       0., 0., 0., 0., 0., 0., 0., 0., 0., 0., 0., 0., 0., 0., 0., 0., 0.,\n",
       "       0., 0.])"
      ]
     },
     "execution_count": 11,
     "metadata": {},
     "output_type": "execute_result"
    }
   ],
   "source": [
    "x=np.zeros(53)\n",
    "x"
   ]
  },
  {
   "cell_type": "markdown",
   "id": "27120a2d",
   "metadata": {},
   "source": [
    "#### asarray函数输出相似的矩阵"
   ]
  },
  {
   "cell_type": "code",
   "execution_count": 12,
   "id": "9ba7435b",
   "metadata": {},
   "outputs": [
    {
     "data": {
      "text/plain": [
       "array([1, 2, 3])"
      ]
     },
     "execution_count": 12,
     "metadata": {},
     "output_type": "execute_result"
    }
   ],
   "source": [
    "x=[1,2,3]\n",
    "a=np.asarray(x)\n",
    "a"
   ]
  },
  {
   "cell_type": "markdown",
   "id": "755c2202",
   "metadata": {},
   "source": [
    "#### arrange函数 用数组来规定目标数组"
   ]
  },
  {
   "cell_type": "code",
   "execution_count": 14,
   "id": "506aa073",
   "metadata": {},
   "outputs": [
    {
     "data": {
      "text/plain": [
       "array([10, 12, 14, 16, 18])"
      ]
     },
     "execution_count": 14,
     "metadata": {},
     "output_type": "execute_result"
    }
   ],
   "source": [
    "x=np.arange(10,20,2)\n",
    "x"
   ]
  },
  {
   "cell_type": "code",
   "execution_count": 3,
   "id": "478ca659",
   "metadata": {},
   "outputs": [
    {
     "data": {
      "text/plain": [
       "array([0, 1, 2, 3, 4])"
      ]
     },
     "execution_count": 3,
     "metadata": {},
     "output_type": "execute_result"
    }
   ],
   "source": [
    "x=np.arange(5)\n",
    "x"
   ]
  },
  {
   "cell_type": "markdown",
   "id": "391498b1",
   "metadata": {},
   "source": [
    "#### linspace函数构造等差数列"
   ]
  },
  {
   "cell_type": "code",
   "execution_count": 5,
   "id": "f1a95b15",
   "metadata": {},
   "outputs": [
    {
     "data": {
      "text/plain": [
       "array([ 0.        ,  3.33333333,  6.66666667, 10.        , 13.33333333,\n",
       "       16.66666667, 20.        ])"
      ]
     },
     "execution_count": 5,
     "metadata": {},
     "output_type": "execute_result"
    }
   ],
   "source": [
    "x=np.linspace(0,20,7)\n",
    "x"
   ]
  },
  {
   "cell_type": "markdown",
   "id": "ca4cc615",
   "metadata": {},
   "source": [
    "#### logspace函数构造等比数列(起始点，终止点，个数)\n",
    "#### 注意默认基底是10\n"
   ]
  },
  {
   "cell_type": "code",
   "execution_count": 18,
   "id": "083aeac0",
   "metadata": {},
   "outputs": [
    {
     "data": {
      "text/plain": [
       "array([10.        , 13.08177474, 17.11328304, 22.38721139, 29.28644565,\n",
       "       38.3118685 , 50.11872336])"
      ]
     },
     "execution_count": 18,
     "metadata": {},
     "output_type": "execute_result"
    }
   ],
   "source": [
    "x=np.logspace(1,2,num=7)\n",
    "x"
   ]
  },
  {
   "cell_type": "markdown",
   "id": "2da4a23e",
   "metadata": {},
   "source": [
    "## numpy 数组属性\n"
   ]
  },
  {
   "cell_type": "markdown",
   "id": "2330b242",
   "metadata": {},
   "source": [
    "#### 数组维数称之为秩（rank）也就是轴axis的数量或者数组的维度（dimensions）"
   ]
  },
  {
   "cell_type": "markdown",
   "id": "d8366d24",
   "metadata": {},
   "source": [
    "## 数组的索引和切片"
   ]
  },
  {
   "cell_type": "markdown",
   "id": "a2e7407d",
   "metadata": {},
   "source": [
    "#### 和python的切片方法类似，numpy有slice函数可以切片，numpy切片的方法和操作更多"
   ]
  },
  {
   "cell_type": "code",
   "execution_count": 31,
   "id": "100ee64f",
   "metadata": {},
   "outputs": [
    {
     "data": {
      "text/plain": [
       "array([0, 1, 2, 3, 4, 5, 6, 7, 8, 9])"
      ]
     },
     "execution_count": 31,
     "metadata": {},
     "output_type": "execute_result"
    }
   ],
   "source": [
    "a=np.arange(10)\n",
    "a"
   ]
  },
  {
   "cell_type": "markdown",
   "id": "f2176c5d",
   "metadata": {},
   "source": [
    "#### slice函数切片(start:stop:step)"
   ]
  },
  {
   "cell_type": "code",
   "execution_count": 32,
   "id": "f484c9b0",
   "metadata": {},
   "outputs": [
    {
     "data": {
      "text/plain": [
       "array([2, 4, 6])"
      ]
     },
     "execution_count": 32,
     "metadata": {},
     "output_type": "execute_result"
    }
   ],
   "source": [
    "s=slice(2,7,2)\n",
    "a[s]"
   ]
  },
  {
   "cell_type": "code",
   "execution_count": 37,
   "id": "b0a0d42b",
   "metadata": {},
   "outputs": [
    {
     "data": {
      "text/plain": [
       "array([2, 4, 6])"
      ]
     },
     "execution_count": 37,
     "metadata": {},
     "output_type": "execute_result"
    }
   ],
   "source": [
    "a=np.arange(10)\n",
    "a[2:7:2]"
   ]
  },
  {
   "cell_type": "markdown",
   "id": "2d682f34",
   "metadata": {},
   "source": [
    "#### 二维数组切片    语法含义：[行][列] "
   ]
  },
  {
   "cell_type": "code",
   "execution_count": 52,
   "id": "b10656ac",
   "metadata": {},
   "outputs": [
    {
     "data": {
      "text/plain": [
       "array([[1, 2],\n",
       "       [3, 4],\n",
       "       [5, 6]])"
      ]
     },
     "execution_count": 52,
     "metadata": {},
     "output_type": "execute_result"
    }
   ],
   "source": [
    "x=np.array([[1,2],[3,4],[5,6]])\n",
    "x"
   ]
  },
  {
   "cell_type": "code",
   "execution_count": 60,
   "id": "29adf1c4",
   "metadata": {},
   "outputs": [
    {
     "data": {
      "text/plain": [
       "array([3, 2, 6])"
      ]
     },
     "execution_count": 60,
     "metadata": {},
     "output_type": "execute_result"
    }
   ],
   "source": [
    "y=x[[1,0,2],[0,1,1]]\n",
    "y"
   ]
  },
  {
   "cell_type": "markdown",
   "id": "272d577d",
   "metadata": {},
   "source": [
    "#### 对布尔型切片(对数组切片时可以不写范围值，而写一个判别式（布尔值）)"
   ]
  },
  {
   "cell_type": "code",
   "execution_count": 61,
   "id": "bfc4663b",
   "metadata": {},
   "outputs": [
    {
     "data": {
      "text/plain": [
       "array([6])"
      ]
     },
     "execution_count": 61,
     "metadata": {},
     "output_type": "execute_result"
    }
   ],
   "source": [
    "x[x>5]"
   ]
  },
  {
   "cell_type": "markdown",
   "id": "4357a8bf",
   "metadata": {},
   "source": [
    "#### 花式索引"
   ]
  },
  {
   "cell_type": "code",
   "execution_count": 64,
   "id": "398f6a8c",
   "metadata": {},
   "outputs": [
    {
     "data": {
      "text/plain": [
       "array([ 5,  6,  7,  8,  9, 10, 11, 12, 13, 14])"
      ]
     },
     "execution_count": 64,
     "metadata": {},
     "output_type": "execute_result"
    }
   ],
   "source": [
    "x= np.arange(5,15)\n",
    "x"
   ]
  },
  {
   "cell_type": "code",
   "execution_count": 69,
   "id": "52575ba3",
   "metadata": {},
   "outputs": [
    {
     "name": "stdout",
     "output_type": "stream",
     "text": [
      "12\n"
     ]
    },
    {
     "data": {
      "text/plain": [
       "array([ 5, 13, 14, 12])"
      ]
     },
     "execution_count": 69,
     "metadata": {},
     "output_type": "execute_result"
    }
   ],
   "source": [
    "x1=x[[0,8,9,7]]\n",
    "print(x1[3])\n",
    "x1"
   ]
  },
  {
   "cell_type": "code",
   "execution_count": 73,
   "id": "507c5fd7",
   "metadata": {},
   "outputs": [
    {
     "name": "stdout",
     "output_type": "stream",
     "text": [
      "[[0 1 2]\n",
      " [3 4 5]\n",
      " [6 7 8]]\n",
      "[[0 1 2]\n",
      " [3 4 5]]\n",
      "[4 2]\n"
     ]
    }
   ],
   "source": [
    "x=np.arange(9).reshape(3,3)\n",
    "print(x)\n",
    "x1=x[[0,1]]\n",
    "print(x1)\n",
    "x2=x[[1,0],[1,2]]\n",
    "print(x2)"
   ]
  },
  {
   "cell_type": "markdown",
   "id": "c6eb2ed1",
   "metadata": {},
   "source": [
    "## numpy数组操作"
   ]
  },
  {
   "cell_type": "markdown",
   "id": "ca6ffcc1",
   "metadata": {},
   "source": [
    "#### nditer函数 迭代数组  nditer(数组名，order=‘C/F’)"
   ]
  },
  {
   "cell_type": "code",
   "execution_count": 102,
   "id": "22fc1172",
   "metadata": {
    "scrolled": true
   },
   "outputs": [
    {
     "name": "stdout",
     "output_type": "stream",
     "text": [
      "[[ 0  5 10 15]\n",
      " [20 25 30 35]\n",
      " [40 45 50 55]]\n",
      "0 ,5 ,10 ,15 ,20 ,25 ,30 ,35 ,40 ,45 ,50 ,55 ,\n",
      "\n",
      "aaaaaaaa\n",
      "0, 20, 40, 5, 25, 45, 10, 30, 50, 15, 35, 55, "
     ]
    }
   ],
   "source": [
    "x=np.arange(0,60,5).reshape(3,4)\n",
    "print(x)\n",
    "for a in np.nditer(x,order='C'):\n",
    "    print(a,end=' ,')\n",
    "print('\\n')\n",
    "print('aaaaaaaa')\n",
    "for a in np.nditer(x,order='F'):\n",
    "    print(a,end=', ')\n"
   ]
  },
  {
   "cell_type": "markdown",
   "id": "3b9861ab",
   "metadata": {},
   "source": [
    "## numpy广播机制（python的广播机制都一样）\n",
    "#### 简单来说就是当两个数组不是完全一样的规格时,只有多维数组和一个1维数组能够合并（只有1维数组能够通过一些特别的规则进行广播）"
   ]
  },
  {
   "cell_type": "markdown",
   "id": "4c312d66",
   "metadata": {},
   "source": [
    "## numpy 数组操作"
   ]
  },
  {
   "cell_type": "markdown",
   "id": "e8cd4638",
   "metadata": {},
   "source": [
    "#### 数组改变形状        reshape函数          np.reshaape(数组，规格，order=‘C/F/A/k’)"
   ]
  },
  {
   "cell_type": "code",
   "execution_count": 108,
   "id": "5c503ecc",
   "metadata": {},
   "outputs": [
    {
     "name": "stdout",
     "output_type": "stream",
     "text": [
      "[ 0  5 10 15 20 25 30 35 40 45 50 55 60 65 70 75 80 85 90 95]\n"
     ]
    },
    {
     "data": {
      "text/plain": [
       "array([[ 0,  5, 10, 15, 20],\n",
       "       [25, 30, 35, 40, 45],\n",
       "       [50, 55, 60, 65, 70],\n",
       "       [75, 80, 85, 90, 95]])"
      ]
     },
     "execution_count": 108,
     "metadata": {},
     "output_type": "execute_result"
    }
   ],
   "source": [
    "x=np.arange(0,100,5)\n",
    "print(x)\n",
    "a=np.reshape(x,[4,5])\n",
    "a"
   ]
  },
  {
   "cell_type": "markdown",
   "id": "038b20f5",
   "metadata": {},
   "source": [
    "#### 数组压缩为一维向量  flatten函数   数组.flatten(order='C/F/A/k')\n"
   ]
  },
  {
   "cell_type": "code",
   "execution_count": 114,
   "id": "1d3261c1",
   "metadata": {},
   "outputs": [
    {
     "data": {
      "text/plain": [
       "array([ 0, 25, 50, 75,  5, 30, 55, 80, 10, 35, 60, 85, 15, 40, 65, 90, 20,\n",
       "       45, 70, 95])"
      ]
     },
     "execution_count": 114,
     "metadata": {},
     "output_type": "execute_result"
    }
   ],
   "source": [
    "b=a.flatten(order='F')\n",
    "b"
   ]
  },
  {
   "cell_type": "markdown",
   "id": "e7f6cbb6",
   "metadata": {},
   "source": [
    "#### 数组转置   transpose函数    np.transpose(数组)\n",
    "#### 和np.ndarray.T一样"
   ]
  },
  {
   "cell_type": "code",
   "execution_count": 116,
   "id": "c9852475",
   "metadata": {},
   "outputs": [
    {
     "name": "stdout",
     "output_type": "stream",
     "text": [
      "[ 0  5 10 15 20 25 30 35 40 45 50 55 60 65 70 75 80 85 90 95]\n"
     ]
    },
    {
     "data": {
      "text/plain": [
       "array([[ 0, 25, 50, 75],\n",
       "       [ 5, 30, 55, 80],\n",
       "       [10, 35, 60, 85],\n",
       "       [15, 40, 65, 90],\n",
       "       [20, 45, 70, 95]])"
      ]
     },
     "execution_count": 116,
     "metadata": {},
     "output_type": "execute_result"
    }
   ],
   "source": [
    "x=np.arange(0,100,5)\n",
    "print(x)\n",
    "a=np.reshape(x,[4,5])\n",
    "a\n",
    "b=np.transpose(a)\n",
    "b"
   ]
  },
  {
   "cell_type": "code",
   "execution_count": 117,
   "id": "33d98899",
   "metadata": {},
   "outputs": [
    {
     "data": {
      "text/plain": [
       "array([[ 0,  5, 10, 15, 20],\n",
       "       [25, 30, 35, 40, 45],\n",
       "       [50, 55, 60, 65, 70],\n",
       "       [75, 80, 85, 90, 95]])"
      ]
     },
     "execution_count": 117,
     "metadata": {},
     "output_type": "execute_result"
    }
   ],
   "source": [
    "c=b.T\n",
    "c"
   ]
  },
  {
   "cell_type": "markdown",
   "id": "48c91f30",
   "metadata": {},
   "source": [
    "#### 多维数组交换某两个轴   np.swapaxes(数组，轴号，轴号)    \n",
    "#### 和python中的transpose/permute这两个api效果一样"
   ]
  },
  {
   "cell_type": "code",
   "execution_count": 10,
   "id": "048735ab",
   "metadata": {},
   "outputs": [
    {
     "data": {
      "text/plain": [
       "array([[[  0,  25,  50,  75, 100],\n",
       "        [  5,  30,  55,  80, 105],\n",
       "        [ 10,  35,  60,  85, 110],\n",
       "        [ 15,  40,  65,  90, 115],\n",
       "        [ 20,  45,  70,  95, 120]],\n",
       "\n",
       "       [[  1,  26,  51,  76, 101],\n",
       "        [  6,  31,  56,  81, 106],\n",
       "        [ 11,  36,  61,  86, 111],\n",
       "        [ 16,  41,  66,  91, 116],\n",
       "        [ 21,  46,  71,  96, 121]],\n",
       "\n",
       "       [[  2,  27,  52,  77, 102],\n",
       "        [  7,  32,  57,  82, 107],\n",
       "        [ 12,  37,  62,  87, 112],\n",
       "        [ 17,  42,  67,  92, 117],\n",
       "        [ 22,  47,  72,  97, 122]],\n",
       "\n",
       "       [[  3,  28,  53,  78, 103],\n",
       "        [  8,  33,  58,  83, 108],\n",
       "        [ 13,  38,  63,  88, 113],\n",
       "        [ 18,  43,  68,  93, 118],\n",
       "        [ 23,  48,  73,  98, 123]],\n",
       "\n",
       "       [[  4,  29,  54,  79, 104],\n",
       "        [  9,  34,  59,  84, 109],\n",
       "        [ 14,  39,  64,  89, 114],\n",
       "        [ 19,  44,  69,  94, 119],\n",
       "        [ 24,  49,  74,  99, 124]]])"
      ]
     },
     "execution_count": 10,
     "metadata": {},
     "output_type": "execute_result"
    }
   ],
   "source": [
    "c=np.arange(125).reshape(5,5,5)\n",
    "d=np.swapaxes(c,0,2)\n",
    "d"
   ]
  },
  {
   "cell_type": "markdown",
   "id": "b47b40a9",
   "metadata": {},
   "source": [
    "#### 修改数组维度   \n",
    "#### 增添维度 np.expand_dims(数组名，新轴插入的位置)  \n",
    "#### 削减维度np.squeeze(数组){只能删除一维的条目}"
   ]
  },
  {
   "cell_type": "code",
   "execution_count": 14,
   "id": "99185a3f",
   "metadata": {},
   "outputs": [
    {
     "name": "stdout",
     "output_type": "stream",
     "text": [
      "[[[ 0  1  2  3  4  5  6  7  8  9]\n",
      "  [10 11 12 13 14 15 16 17 18 19]\n",
      "  [20 21 22 23 24 25 26 27 28 29]\n",
      "  [30 31 32 33 34 35 36 37 38 39]\n",
      "  [40 41 42 43 44 45 46 47 48 49]\n",
      "  [50 51 52 53 54 55 56 57 58 59]\n",
      "  [60 61 62 63 64 65 66 67 68 69]\n",
      "  [70 71 72 73 74 75 76 77 78 79]\n",
      "  [80 81 82 83 84 85 86 87 88 89]\n",
      "  [90 91 92 93 94 95 96 97 98 99]]]\n"
     ]
    }
   ],
   "source": [
    "c=np.arange(100).reshape(10,10)\n",
    "c\n",
    "d=np.expand_dims(c,0)\n",
    "print(d)\n"
   ]
  },
  {
   "cell_type": "code",
   "execution_count": 21,
   "id": "0565b8f3",
   "metadata": {},
   "outputs": [
    {
     "data": {
      "text/plain": [
       "array([[[  0,   1,   2,   3,   4],\n",
       "        [  5,   6,   7,   8,   9],\n",
       "        [ 10,  11,  12,  13,  14],\n",
       "        [ 15,  16,  17,  18,  19],\n",
       "        [ 20,  21,  22,  23,  24]],\n",
       "\n",
       "       [[ 25,  26,  27,  28,  29],\n",
       "        [ 30,  31,  32,  33,  34],\n",
       "        [ 35,  36,  37,  38,  39],\n",
       "        [ 40,  41,  42,  43,  44],\n",
       "        [ 45,  46,  47,  48,  49]],\n",
       "\n",
       "       [[ 50,  51,  52,  53,  54],\n",
       "        [ 55,  56,  57,  58,  59],\n",
       "        [ 60,  61,  62,  63,  64],\n",
       "        [ 65,  66,  67,  68,  69],\n",
       "        [ 70,  71,  72,  73,  74]],\n",
       "\n",
       "       [[ 75,  76,  77,  78,  79],\n",
       "        [ 80,  81,  82,  83,  84],\n",
       "        [ 85,  86,  87,  88,  89],\n",
       "        [ 90,  91,  92,  93,  94],\n",
       "        [ 95,  96,  97,  98,  99]],\n",
       "\n",
       "       [[100, 101, 102, 103, 104],\n",
       "        [105, 106, 107, 108, 109],\n",
       "        [110, 111, 112, 113, 114],\n",
       "        [115, 116, 117, 118, 119],\n",
       "        [120, 121, 122, 123, 124]]])"
      ]
     },
     "execution_count": 21,
     "metadata": {},
     "output_type": "execute_result"
    }
   ],
   "source": [
    "c=np.arange(125).reshape(5,5,5)\n",
    "c\n",
    "d=np.squeeze(c)\n",
    "d"
   ]
  },
  {
   "cell_type": "markdown",
   "id": "88081822",
   "metadata": {},
   "source": [
    "#### 数组的连接  concatenate 函数 np.concatenate((数组，数组)，axis=0/1/2)"
   ]
  },
  {
   "cell_type": "code",
   "execution_count": 8,
   "id": "df8675b5",
   "metadata": {},
   "outputs": [
    {
     "name": "stdout",
     "output_type": "stream",
     "text": [
      "[[ 0  1  9 10]\n",
      " [ 2  3 11 12]]\n"
     ]
    },
    {
     "data": {
      "text/plain": [
       "array([[ 0,  1,  0,  1,  9, 10],\n",
       "       [ 2,  3,  2,  3, 11, 12]])"
      ]
     },
     "execution_count": 8,
     "metadata": {},
     "output_type": "execute_result"
    }
   ],
   "source": [
    "a1=np.arange(4).reshape(2,2)\n",
    "a2=np.arange(9,13).reshape(2,2)\n",
    "b=np.concatenate((a1,a2),axis=1)\n",
    "print(b)\n",
    "c=np.concatenate((a1,b),axis=1)\n",
    "c"
   ]
  },
  {
   "cell_type": "markdown",
   "id": "5c1c348b",
   "metadata": {},
   "source": [
    "#### 数组的连接 hstack函数 np.hstack(数组，数组)（水平堆叠）\n",
    "#### 数组的连接 vstack函数 np.vstack (数组，数组)   (竖直堆叠)"
   ]
  },
  {
   "cell_type": "code",
   "execution_count": 16,
   "id": "6546c8e4",
   "metadata": {},
   "outputs": [
    {
     "name": "stdout",
     "output_type": "stream",
     "text": [
      "[[ 0  1]\n",
      " [ 2  3]\n",
      " [ 9 10]\n",
      " [11 12]]\n",
      "[[ 0  1  9 10]\n",
      " [ 2  3 11 12]]\n"
     ]
    }
   ],
   "source": [
    "a1=np.arange(4).reshape(2,2)\n",
    "a2=np.arange(9,13).reshape(2,2)\n",
    "c=np.vstack((a1,a2))\n",
    "print(c)\n",
    "c=np.hstack((a1,a2))\n",
    "print(c)"
   ]
  },
  {
   "cell_type": "markdown",
   "id": "b6d3b2e7",
   "metadata": {},
   "source": [
    "#### 分割数组 split函数  np.split（数组，整数/区间）"
   ]
  },
  {
   "cell_type": "code",
   "execution_count": 19,
   "id": "6e09f61e",
   "metadata": {},
   "outputs": [
    {
     "name": "stdout",
     "output_type": "stream",
     "text": [
      "[array([[0, 1, 2]]), array([[3, 4, 5]]), array([[6, 7, 8]])]\n",
      "[array([0, 1, 2]), array([3, 4, 5]), array([6, 7, 8])]\n",
      "[array([0, 1, 2]), array([3, 4, 5, 6, 7]), array([8])]\n"
     ]
    }
   ],
   "source": [
    "a1=np.arange(9).reshape(3,3)\n",
    "b=np.split(a1,3)\n",
    "print(b)\n",
    "a1=np.arange(9)\n",
    "b=np.split(a1,3)\n",
    "print(b)\n",
    "b=np.split(a1,[3,8])\n",
    "print(b)"
   ]
  },
  {
   "cell_type": "markdown",
   "id": "28a9aaf1",
   "metadata": {},
   "source": [
    "#### 数组的添加与删除   np.append 函数  np.append(数组，添加内容，axis=0/1)"
   ]
  },
  {
   "cell_type": "code",
   "execution_count": 30,
   "id": "6b36c5f0",
   "metadata": {},
   "outputs": [
    {
     "name": "stdout",
     "output_type": "stream",
     "text": [
      "[[0 1 2]\n",
      " [3 4 5]\n",
      " [6 7 8]]\n",
      "[0 1 2 3 4 5 6 7 8 1 1 1]\n",
      "[[0 1 2]\n",
      " [3 4 5]\n",
      " [6 7 8]\n",
      " [1 1 1]]\n",
      "[[0 1 2 1 1 1]\n",
      " [3 4 5 2 2 2]\n",
      " [6 7 8 3 3 3]]\n"
     ]
    }
   ],
   "source": [
    "a1=np.arange(9).reshape(3,3)\n",
    "print(a1)\n",
    "a2=np.append(a1,[[1,1,1]])\n",
    "print(a2)\n",
    "a2=np.append(a1,[[1,1,1]],axis=0)\n",
    "print(a2)\n",
    "a2=np.append(a1,[[1,1,1],[2,2,2],[3,3,3]],axis=1)\n",
    "print(a2)"
   ]
  },
  {
   "cell_type": "markdown",
   "id": "cff7c920",
   "metadata": {},
   "source": [
    "#### np.insert(数组，索引（插入值之前的），插入值，axis=0/1)"
   ]
  },
  {
   "cell_type": "code",
   "execution_count": 43,
   "id": "a7d7fb48",
   "metadata": {},
   "outputs": [
    {
     "name": "stdout",
     "output_type": "stream",
     "text": [
      "[[0 1]\n",
      " [2 3]\n",
      " [4 5]]\n",
      "[[0 1]\n",
      " [2 3]\n",
      " [9 9]\n",
      " [4 5]]\n",
      "[[  0   1]\n",
      " [  2   3]\n",
      " [999 999]\n",
      " [  4   5]]\n",
      "[[0 1 9]\n",
      " [2 3 9]\n",
      " [4 5 9]]\n",
      "[[   0    1 9999]\n",
      " [   2    3 9999]\n",
      " [   4    5 9999]]\n"
     ]
    }
   ],
   "source": [
    "a=np.arange(6).reshape(3,2)\n",
    "print(a)\n",
    "b=np.insert(a,2,[9,9],axis=0)\n",
    "print(b)\n",
    "b=np.insert(a,2,999,axis=0)\n",
    "print(b)\n",
    "b=np.insert(a,2,[9,9,9],axis=1)\n",
    "print(b)\n",
    "b=np.insert(a,2,9999,axis=1)\n",
    "print(b)"
   ]
  },
  {
   "cell_type": "markdown",
   "id": "d7868fdb",
   "metadata": {},
   "source": [
    "#### np.delete(数组，索引（插入值之前的），axis=0/1)"
   ]
  },
  {
   "cell_type": "code",
   "execution_count": 49,
   "id": "ca8e6540",
   "metadata": {},
   "outputs": [
    {
     "name": "stdout",
     "output_type": "stream",
     "text": [
      "[[ 0  1  2  3]\n",
      " [ 4  5  6  7]\n",
      " [ 8  9 10 11]\n",
      " [12 13 14 15]]\n",
      "[[ 4  5  6  7]\n",
      " [ 8  9 10 11]\n",
      " [12 13 14 15]]\n",
      "[[ 1  2  3]\n",
      " [ 5  6  7]\n",
      " [ 9 10 11]\n",
      " [13 14 15]]\n",
      "[ 0  1  3  4  5  6  7  8  9 10 11 12 13 14 15]\n",
      "[ 1  2  4  5  7  8 10 11 13 14]\n"
     ]
    }
   ],
   "source": [
    "a=np.arange(16).reshape(4,4)\n",
    "print(a)\n",
    "\n",
    "b=np.delete(a,0,axis=0)\n",
    "print(b)\n",
    "\n",
    "b=np.delete(a,0,axis=1)\n",
    "print(b)\n",
    "\n",
    "b=np.delete(a,2)\n",
    "print(b)\n",
    "\n",
    "b=np.delete(a,np.s_[::3])\n",
    "print(b)\n"
   ]
  },
  {
   "cell_type": "markdown",
   "id": "67e238d9",
   "metadata": {},
   "source": [
    "## numpy函数与常用功能"
   ]
  },
  {
   "cell_type": "markdown",
   "id": "d94e7a9c",
   "metadata": {},
   "source": [
    "### numpy 字符串函数"
   ]
  },
  {
   "cell_type": "markdown",
   "id": "4d64be82",
   "metadata": {},
   "source": [
    "#### 字符串连接 np.char.add(['字符串内容']，['字符串内容'])"
   ]
  },
  {
   "cell_type": "code",
   "execution_count": 53,
   "id": "27157423",
   "metadata": {},
   "outputs": [
    {
     "name": "stdout",
     "output_type": "stream",
     "text": [
      "['hello xyz']\n",
      "['hello abc' 'hi xyz']\n"
     ]
    }
   ],
   "source": [
    "a=np.char.add(['hello'],[' xyz'])\n",
    "print(a)\n",
    "a=np.char.add(['hello', 'hi'],[' abc', ' xyz'])\n",
    "print(a)"
   ]
  },
  {
   "cell_type": "markdown",
   "id": "c4d92c86",
   "metadata": {},
   "source": [
    "#### 字符串多重连接 np.char.multiply(‘【字符串内容】’，需要重复次数)"
   ]
  },
  {
   "cell_type": "code",
   "execution_count": 56,
   "id": "16ae348d",
   "metadata": {},
   "outputs": [
    {
     "name": "stdout",
     "output_type": "stream",
     "text": [
      "wxh wxh wxh \n"
     ]
    }
   ],
   "source": [
    "print (np.char.multiply('wxh ',3))"
   ]
  },
  {
   "cell_type": "markdown",
   "id": "7a5d13c3",
   "metadata": {},
   "source": [
    "#### 字符串居中函数 np.char.center(‘字符串’，长度，fillchar='  '）\n"
   ]
  },
  {
   "cell_type": "code",
   "execution_count": 60,
   "id": "5cf5ed28",
   "metadata": {},
   "outputs": [
    {
     "name": "stdout",
     "output_type": "stream",
     "text": [
      "@@@@@@@Runoob@@@@@@@\n"
     ]
    }
   ],
   "source": [
    "print (np.char.center('wxh', 20,fillchar = '@'))"
   ]
  },
  {
   "cell_type": "markdown",
   "id": "01446bb5",
   "metadata": {},
   "source": [
    "#### 将第一个字符转化为大写  np.char.capitalize('  ')"
   ]
  },
  {
   "cell_type": "code",
   "execution_count": 9,
   "id": "40c0d489",
   "metadata": {},
   "outputs": [
    {
     "name": "stdout",
     "output_type": "stream",
     "text": [
      "Runoob\n"
     ]
    }
   ],
   "source": [
    "print (np.char.capitalize('runoob'))"
   ]
  },
  {
   "cell_type": "markdown",
   "id": "226edc40",
   "metadata": {},
   "source": [
    "#### 将字符串转化为标题格式（每个单词的首字母大写）  np.char.title('   ')"
   ]
  },
  {
   "cell_type": "code",
   "execution_count": 10,
   "id": "1fe3fe02",
   "metadata": {},
   "outputs": [
    {
     "name": "stdout",
     "output_type": "stream",
     "text": [
      "I Like Runoob\n"
     ]
    }
   ],
   "source": [
    "print (np.char.title('i like runoob'))"
   ]
  },
  {
   "cell_type": "markdown",
   "id": "b7726552",
   "metadata": {},
   "source": [
    "#### 将字符串转化为小写  np.char.lower('    ')或者np.char.lower(['   ','     '])\n"
   ]
  },
  {
   "cell_type": "code",
   "execution_count": 12,
   "id": "a65fca25",
   "metadata": {},
   "outputs": [
    {
     "name": "stdout",
     "output_type": "stream",
     "text": [
      "['runoob' 'google']\n"
     ]
    }
   ],
   "source": [
    "print (np.char.lower(['RUNOOB','GOOGLE']))"
   ]
  },
  {
   "cell_type": "markdown",
   "id": "c5fd8e88",
   "metadata": {},
   "source": [
    "#### 将字符串转化为大写 np.char.upper('    ')或者np.char.upper(['   ','     '])"
   ]
  },
  {
   "cell_type": "code",
   "execution_count": 13,
   "id": "7e438b85",
   "metadata": {},
   "outputs": [
    {
     "name": "stdout",
     "output_type": "stream",
     "text": [
      "RUNOOB\n"
     ]
    }
   ],
   "source": [
    "print (np.char.upper('runoob'))"
   ]
  },
  {
   "cell_type": "markdown",
   "id": "51becb09",
   "metadata": {},
   "source": [
    "#### 以空格或者分割标志来分隔字符串 np.char.split('字符串内容'，sep='分割标志')"
   ]
  },
  {
   "cell_type": "code",
   "execution_count": 16,
   "id": "99ede084",
   "metadata": {},
   "outputs": [
    {
     "data": {
      "text/plain": [
       "array(list(['www', 'wxh', 'cn', 'com']), dtype=object)"
      ]
     },
     "execution_count": 16,
     "metadata": {},
     "output_type": "execute_result"
    }
   ],
   "source": [
    "np.char.split('www.wxh.cn.com',sep='.')"
   ]
  },
  {
   "cell_type": "markdown",
   "id": "14dbfc09",
   "metadata": {},
   "source": [
    "#### 以换行符(\\r或者\\n)作为标志分隔字符串np.char.splitlines('     ')"
   ]
  },
  {
   "cell_type": "code",
   "execution_count": 17,
   "id": "eaea049d",
   "metadata": {},
   "outputs": [
    {
     "name": "stdout",
     "output_type": "stream",
     "text": [
      "['i', 'like runoob?']\n",
      "['i', 'like runoob?']\n"
     ]
    }
   ],
   "source": [
    "print (np.char.splitlines('i\\nlike runoob?')) (\n",
    "print (np.char.splitlines('i\\rlike runoob?')))"
   ]
  },
  {
   "cell_type": "markdown",
   "id": "2ce56342",
   "metadata": {},
   "source": [
    "#### 移除字符串头尾部分的字母内容np.char.strip('字符串内容')"
   ]
  },
  {
   "cell_type": "code",
   "execution_count": 18,
   "id": "2a067c11",
   "metadata": {},
   "outputs": [
    {
     "name": "stdout",
     "output_type": "stream",
     "text": [
      "['runoob' 'dmin' 'jav']\n"
     ]
    }
   ],
   "source": [
    "print (np.char.strip(['arunooba','admin','java'],'a'))"
   ]
  },
  {
   "cell_type": "markdown",
   "id": "68db693b",
   "metadata": {},
   "source": [
    "#### 通过特定标识符来连接字符串 np.char.join('-','字符串')\n"
   ]
  },
  {
   "cell_type": "code",
   "execution_count": 19,
   "id": "c2e8f67b",
   "metadata": {},
   "outputs": [
    {
     "name": "stdout",
     "output_type": "stream",
     "text": [
      "['r:u:n:o:o:b' 'g-o-o-g-l-e']\n"
     ]
    }
   ],
   "source": [
    "print (np.char.join([':','-'],['runoob','google']))"
   ]
  },
  {
   "cell_type": "markdown",
   "id": "987c09ae",
   "metadata": {},
   "source": [
    "#### 使用新字符串替换原有字符串中的所有子字符串 np.char.replace('原字符串'，)"
   ]
  },
  {
   "cell_type": "code",
   "execution_count": 20,
   "id": "9b454326",
   "metadata": {},
   "outputs": [
    {
     "name": "stdout",
     "output_type": "stream",
     "text": [
      "i like runccb\n"
     ]
    }
   ],
   "source": [
    "print (np.char.replace ('i like runoob', 'oo', 'cc'))"
   ]
  },
  {
   "cell_type": "code",
   "execution_count": 22,
   "id": "22639613",
   "metadata": {},
   "outputs": [
    {
     "name": "stdout",
     "output_type": "stream",
     "text": [
      "i like cc9999unoob\n"
     ]
    }
   ],
   "source": [
    "print (np.char.replace ('i like runoob', 'r', 'cc9999'))"
   ]
  },
  {
   "cell_type": "markdown",
   "id": "6f15052e",
   "metadata": {},
   "source": [
    "#### 对字符串进行utf-8 编码 np.char.encode('   '，'cp500')"
   ]
  },
  {
   "cell_type": "code",
   "execution_count": 8,
   "id": "590f28e5",
   "metadata": {},
   "outputs": [
    {
     "data": {
      "text/plain": [
       "array(b'\\x99\\xa4\\x95\\x96\\x96\\x82', dtype='|S6')"
      ]
     },
     "execution_count": 8,
     "metadata": {},
     "output_type": "execute_result"
    }
   ],
   "source": [
    "a=np.char.encode('runoob', 'cp500')\n",
    "a"
   ]
  },
  {
   "cell_type": "markdown",
   "id": "0bf592cb",
   "metadata": {},
   "source": [
    "#### 对字符串进行utf-8 解码 np.char.encode('   ','cp500')"
   ]
  },
  {
   "cell_type": "code",
   "execution_count": 10,
   "id": "36ca0f94",
   "metadata": {},
   "outputs": [
    {
     "data": {
      "text/plain": [
       "array('runoob', dtype='<U6')"
      ]
     },
     "execution_count": 10,
     "metadata": {},
     "output_type": "execute_result"
    }
   ],
   "source": [
    "b=np.char.decode(a,'cp500')\n",
    "b"
   ]
  },
  {
   "cell_type": "markdown",
   "id": "fe5255e7",
   "metadata": {},
   "source": [
    "### numpy数学函数"
   ]
  },
  {
   "cell_type": "markdown",
   "id": "33646cc7",
   "metadata": {},
   "source": [
    "#### 三角函数 sin cos tan  np.sin()"
   ]
  },
  {
   "cell_type": "code",
   "execution_count": 13,
   "id": "aacf1268",
   "metadata": {},
   "outputs": [
    {
     "name": "stdout",
     "output_type": "stream",
     "text": [
      "[0.         0.25881905 0.5        0.70710678 0.8660254  0.96592583\n",
      " 1.        ]\n",
      "[1.00000000e+00 9.65925826e-01 8.66025404e-01 7.07106781e-01\n",
      " 5.00000000e-01 2.58819045e-01 6.12323400e-17]\n",
      "[0.00000000e+00 2.67949192e-01 5.77350269e-01 1.00000000e+00\n",
      " 1.73205081e+00 3.73205081e+00 1.63312394e+16]\n"
     ]
    }
   ],
   "source": [
    "a=np.arange(0,105,15)\n",
    "print(np.sin(a*np.pi/180))\n",
    "print(np.cos(a*np.pi/180))\n",
    "print(np.tan(a*np.pi/180))"
   ]
  },
  {
   "cell_type": "markdown",
   "id": "297a6524",
   "metadata": {},
   "source": [
    "#### 反三角函数 arcsin  arccos arctan\n",
    "#### 将弧度制转化为三角函数制 np.degrees()"
   ]
  },
  {
   "cell_type": "code",
   "execution_count": 31,
   "id": "cbcd43bb",
   "metadata": {},
   "outputs": [
    {
     "name": "stdout",
     "output_type": "stream",
     "text": [
      "三角函数值\n",
      "[0.         0.5        0.70710678 0.8660254  1.        ]\n",
      "反三角函数值的弧度制\n",
      "[0.         0.52359878 0.78539816 1.04719755 1.57079633]\n",
      "反三角函数的角度值\n",
      "[ 0. 30. 45. 60. 90.]\n",
      "三角函数值\n",
      "[1.00000000e+00 8.66025404e-01 7.07106781e-01 5.00000000e-01\n",
      " 6.12323400e-17]\n",
      "反三角函数值的弧度制\n",
      "[0.         0.52359878 0.78539816 1.04719755 1.57079633]\n",
      "反三角函数的角度值\n",
      "[ 0. 30. 45. 60. 90.]\n",
      "三角函数值\n",
      "[0.00000000e+00 5.77350269e-01 1.00000000e+00 1.73205081e+00\n",
      " 1.63312394e+16]\n",
      "反三角函数值的弧度制\n",
      "[0.         0.52359878 0.78539816 1.04719755 1.57079633]\n",
      "反三角函数的角度值\n",
      "[ 0. 30. 45. 60. 90.]\n"
     ]
    }
   ],
   "source": [
    "a=np.array([0,30,45,60,90])\n",
    "sin=np.sin(a*np.pi/180)\n",
    "print('三角函数值')\n",
    "print(np.sin(a*np.pi/180))\n",
    "print('反三角函数值的弧度制')\n",
    "print(np.arcsin(sin))\n",
    "print('反三角函数的角度值')\n",
    "print(np.degrees(np.arcsin(sin)))\n",
    "\n",
    "cos=np.cos(a*np.pi/180)\n",
    "print('三角函数值')\n",
    "print(np.cos(a*np.pi/180))\n",
    "print('反三角函数值的弧度制')\n",
    "print(np.arccos(cos))\n",
    "print('反三角函数的角度值')\n",
    "print(np.degrees(np.arccos(cos)))\n",
    "\n",
    "tan=np.tan(a*np.pi/180)\n",
    "print('三角函数值')\n",
    "print(np.tan(a*np.pi/180))\n",
    "print('反三角函数值的弧度制')\n",
    "print(np.arctan(tan))\n",
    "print('反三角函数的角度值')\n",
    "print(np.degrees(np.arctan(tan)))"
   ]
  },
  {
   "cell_type": "markdown",
   "id": "38a328d4",
   "metadata": {},
   "source": [
    "#### 四舍五入函数   np.around(数组，decimals=舍入位数)"
   ]
  },
  {
   "cell_type": "code",
   "execution_count": 35,
   "id": "ad5f0dcc",
   "metadata": {},
   "outputs": [
    {
     "data": {
      "text/plain": [
       "array([0. , 0.3, 0.7, 1. , 1.3, 1.6, 2. , 2.3, 2.6, 3. , 3.3, 3.6, 4. ,\n",
       "       4.3, 4.6, 5. ])"
      ]
     },
     "execution_count": 35,
     "metadata": {},
     "output_type": "execute_result"
    }
   ],
   "source": [
    "a=np.arange(0,5,0.33)\n",
    "b=np.around(a,decimals=1)\n",
    "b"
   ]
  },
  {
   "cell_type": "markdown",
   "id": "dbc50d51",
   "metadata": {},
   "source": [
    "#### 高斯函数，向下取整  np.floor(数组)"
   ]
  },
  {
   "cell_type": "code",
   "execution_count": 36,
   "id": "0c9e3a3d",
   "metadata": {},
   "outputs": [
    {
     "name": "stdout",
     "output_type": "stream",
     "text": [
      "[-3.   -2.67 -2.34 -2.01 -1.68 -1.35 -1.02 -0.69 -0.36 -0.03  0.3   0.63\n",
      "  0.96  1.29  1.62  1.95  2.28]\n",
      "[-3. -3. -3. -3. -2. -2. -2. -1. -1. -1.  0.  0.  0.  1.  1.  1.  2.]\n"
     ]
    }
   ],
   "source": [
    "a=np.arange(-3,2.55,0.33)\n",
    "print(a)\n",
    "b=np.floor(a)\n",
    "print(b)"
   ]
  },
  {
   "cell_type": "markdown",
   "id": "a328a3a6",
   "metadata": {},
   "source": [
    "#### 向上取整  np.ceil(数组)"
   ]
  },
  {
   "cell_type": "code",
   "execution_count": 37,
   "id": "5d0db9b6",
   "metadata": {},
   "outputs": [
    {
     "name": "stdout",
     "output_type": "stream",
     "text": [
      "[-3.   -2.67 -2.34 -2.01 -1.68 -1.35 -1.02 -0.69 -0.36 -0.03  0.3   0.63\n",
      "  0.96  1.29  1.62  1.95  2.28]\n",
      "[-3. -2. -2. -2. -1. -1. -1. -0. -0. -0.  1.  1.  1.  2.  2.  2.  3.]\n"
     ]
    }
   ],
   "source": [
    "a=np.arange(-3,2.55,0.33)\n",
    "print(a)\n",
    "b=np.ceil(a)\n",
    "print(b)"
   ]
  },
  {
   "cell_type": "markdown",
   "id": "7328e2da",
   "metadata": {},
   "source": [
    "### 数组的算数运算\n",
    "#### 加减乘除 add,subtract,multiply,divide"
   ]
  },
  {
   "cell_type": "code",
   "execution_count": 5,
   "id": "16583dbb",
   "metadata": {},
   "outputs": [
    {
     "name": "stdout",
     "output_type": "stream",
     "text": [
      "第一个数组：\n",
      "[[0. 1. 2.]\n",
      " [3. 4. 5.]\n",
      " [6. 7. 8.]]\n",
      "\n",
      "\n",
      "第二个数组：\n",
      "[10 50  6]\n",
      "\n",
      "\n",
      "两个数组相加：\n",
      "[[10. 51.  8.]\n",
      " [13. 54. 11.]\n",
      " [16. 57. 14.]]\n",
      "\n",
      "\n",
      "两个数组相减：\n",
      "[[-10. -49.  -4.]\n",
      " [ -7. -46.  -1.]\n",
      " [ -4. -43.   2.]]\n",
      "\n",
      "\n",
      "两个数组相乘：\n",
      "[[  0.  50.  12.]\n",
      " [ 30. 200.  30.]\n",
      " [ 60. 350.  48.]]\n",
      "\n",
      "\n",
      "两个数组相除：\n",
      "[[0.         0.02       0.33333333]\n",
      " [0.3        0.08       0.83333333]\n",
      " [0.6        0.14       1.33333333]]\n"
     ]
    }
   ],
   "source": [
    "a = np.arange(9, dtype = np.float_).reshape(3,3)  \n",
    "print ('第一个数组：')\n",
    "print (a)\n",
    "print ('\\n')\n",
    "print ('第二个数组：')\n",
    "b = np.array([10,50,6])  \n",
    "print (b)\n",
    "print ('\\n')\n",
    "print ('两个数组相加：')\n",
    "print (np.add(a,b))\n",
    "print ('\\n')\n",
    "print ('两个数组相减：')\n",
    "print (np.subtract(a,b))\n",
    "print ('\\n')\n",
    "print ('两个数组相乘：')\n",
    "print (np.multiply(a,b))\n",
    "print ('\\n')\n",
    "print ('两个数组相除：')\n",
    "print (np.divide(a,b))"
   ]
  },
  {
   "cell_type": "markdown",
   "id": "b496db58",
   "metadata": {},
   "source": [
    "#### 幂函数 power(底数，指数)"
   ]
  },
  {
   "cell_type": "code",
   "execution_count": 8,
   "id": "a3c8ddd0",
   "metadata": {},
   "outputs": [
    {
     "name": "stdout",
     "output_type": "stream",
     "text": [
      "我们的数组是；\n",
      "[5 6 7]\n",
      "\n",
      "\n",
      "调用 power 函数：\n",
      "[25 36 49]\n",
      "\n",
      "\n",
      "第二个数组：\n",
      "[1 2 3]\n",
      "\n",
      "\n",
      "再次调用 power 函数：\n",
      "[  5  36 343]\n"
     ]
    }
   ],
   "source": [
    "a = np.array([5,6,7])  \n",
    "print ('我们的数组是；')\n",
    "print (a)\n",
    "print ('\\n') \n",
    "print ('调用 power 函数：')\n",
    "print (np.power(a,2))\n",
    "print ('\\n')\n",
    "print ('第二个数组：')\n",
    "b = np.array([1,2,3])\n",
    "print (b)\n",
    "print ('\\n')\n",
    "print ('再次调用 power 函数：')\n",
    "print (np.power(a,b))"
   ]
  },
  {
   "cell_type": "markdown",
   "id": "2d84c85c",
   "metadata": {},
   "source": [
    "#### 取余数函数mod()或者remainder()"
   ]
  },
  {
   "cell_type": "code",
   "execution_count": 10,
   "id": "a4d5c1f5",
   "metadata": {},
   "outputs": [
    {
     "name": "stdout",
     "output_type": "stream",
     "text": [
      "第一个数组：\n",
      "[10 20 30]\n",
      "\n",
      "\n",
      "第二个数组：\n",
      "[3 5 7]\n",
      "\n",
      "\n",
      "调用 mod() 函数：\n",
      "[1 0 2]\n",
      "\n",
      "\n",
      "调用 remainder() 函数：\n",
      "[1 0 2]\n"
     ]
    }
   ],
   "source": [
    "a = np.array([10,20,30]) \n",
    "b = np.array([3,5,7])  \n",
    "print ('第一个数组：')\n",
    "print (a)\n",
    "print ('\\n')\n",
    "print ('第二个数组：')\n",
    "print (b)\n",
    "print ('\\n')\n",
    "print ('调用 mod() 函数：')\n",
    "print (np.mod(a,b))\n",
    "print ('\\n')\n",
    "print ('调用 remainder() 函数：')\n",
    "print (np.remainder(a,b))"
   ]
  },
  {
   "cell_type": "markdown",
   "id": "d6cef529",
   "metadata": {},
   "source": [
    "### 统计函数\n",
    "#### 计算最小值的函数amin()\n",
    "#### 计算函数的最大值amax()"
   ]
  },
  {
   "cell_type": "code",
   "execution_count": 15,
   "id": "6824802d",
   "metadata": {},
   "outputs": [
    {
     "name": "stdout",
     "output_type": "stream",
     "text": [
      "我们的数组是：\n",
      "[[3 7 5]\n",
      " [8 4 3]\n",
      " [2 4 9]]\n",
      "\n",
      "\n",
      "调用 amin() 函数：\n",
      "[3 3 2]\n",
      "\n",
      "\n",
      "再次调用 amin() 函数：\n",
      "[2 4 3]\n",
      "\n",
      "\n",
      "再次调用 amin() 函数：\n",
      "2\n",
      "\n",
      "\n",
      "调用 amax() 函数：\n",
      "9\n",
      "\n",
      "\n",
      "再次调用 amax() 函数：\n",
      "[8 7 9]\n",
      "\n",
      "\n",
      "再次调用 amax() 函数：\n",
      "[7 8 9]\n"
     ]
    }
   ],
   "source": [
    "a = np.array([[3,7,5],[8,4,3],[2,4,9]])  \n",
    "print ('我们的数组是：')\n",
    "print (a)\n",
    "print ('\\n')\n",
    "print ('调用 amin() 函数：')\n",
    "print (np.amin(a,1))\n",
    "print ('\\n')\n",
    "print ('再次调用 amin() 函数：')\n",
    "print (np.amin(a,0))\n",
    "print ('\\n')\n",
    "print ('再次调用 amin() 函数：')\n",
    "print (np.amin(a))\n",
    "print ('\\n')\n",
    "print ('调用 amax() 函数：')\n",
    "print (np.amax(a))\n",
    "print ('\\n')\n",
    "print ('再次调用 amax() 函数：')\n",
    "print (np.amax(a, axis =  0))\n",
    "print ('\\n')\n",
    "print ('再次调用 amax() 函数：')\n",
    "print (np.amax(a, 1))"
   ]
  },
  {
   "cell_type": "markdown",
   "id": "5666e263",
   "metadata": {},
   "source": [
    "#### 计算极差ptp()"
   ]
  },
  {
   "cell_type": "code",
   "execution_count": 16,
   "id": "b31c1cfe",
   "metadata": {},
   "outputs": [
    {
     "name": "stdout",
     "output_type": "stream",
     "text": [
      "我们的数组是：\n",
      "[[3 7 5]\n",
      " [8 4 3]\n",
      " [2 4 9]]\n",
      "\n",
      "\n",
      "调用 ptp() 函数：\n",
      "7\n",
      "\n",
      "\n",
      "沿轴 1 调用 ptp() 函数：\n",
      "[4 5 7]\n",
      "\n",
      "\n",
      "沿轴 0 调用 ptp() 函数：\n",
      "[6 3 6]\n"
     ]
    }
   ],
   "source": [
    "a = np.array([[3,7,5],[8,4,3],[2,4,9]])  \n",
    "print ('我们的数组是：')\n",
    "print (a)\n",
    "print ('\\n')\n",
    "print ('调用 ptp() 函数：')\n",
    "print (np.ptp(a))\n",
    "print ('\\n')\n",
    "print ('沿轴 1 调用 ptp() 函数：')\n",
    "print (np.ptp(a, axis =  1))\n",
    "print ('\\n')\n",
    "print ('沿轴 0 调用 ptp() 函数：')\n",
    "print (np.ptp(a, axis =  0))"
   ]
  },
  {
   "cell_type": "markdown",
   "id": "3ff6160e",
   "metadata": {},
   "source": [
    "#### 计算百分位数 percentile()"
   ]
  },
  {
   "cell_type": "code",
   "execution_count": 26,
   "id": "a025d2c7",
   "metadata": {},
   "outputs": [
    {
     "name": "stdout",
     "output_type": "stream",
     "text": [
      "我们的数组是：\n",
      "[[10  7  4]\n",
      " [ 3  2  1]]\n",
      "调用 percentile() 函数：\n",
      "3.5\n",
      "[6.5 4.5 2.5]\n",
      "[7. 2.]\n",
      "\n",
      "\n",
      "4.0\n",
      "\n",
      "\n",
      "3.5\n",
      "\n",
      "\n",
      "[[7.]\n",
      " [2.]]\n"
     ]
    }
   ],
   "source": [
    "a = np.array([[10, 7, 4], [3, 2, 1]])\n",
    "print ('我们的数组是：')\n",
    "print (a)\n",
    " \n",
    "print ('调用 percentile() 函数：')\n",
    "# 50% 的分位数，就是 a 里排序之后的中位数\n",
    "print (np.percentile(a, 50)) \n",
    " \n",
    "# axis 为 0，在纵列上求\n",
    "print (np.percentile(a, 50, axis=0)) \n",
    " \n",
    "# axis 为 1，在横行上求\n",
    "print (np.percentile(a, 50, axis=1)) \n",
    "print ('\\n')\n",
    "b=a.flatten(order='F')\n",
    "print (np.percentile(b, 60))\n",
    "print ('\\n')\n",
    "print (np.percentile(a, 50)) \n",
    "print ('\\n')\n",
    "\n",
    "# 保持维度不变\n",
    "print (np.percentile(a, 50, axis=1, keepdims=True))"
   ]
  },
  {
   "cell_type": "markdown",
   "id": "7014bb09",
   "metadata": {},
   "source": [
    "#### 计算中位数 median()"
   ]
  },
  {
   "cell_type": "code",
   "execution_count": 27,
   "id": "ee65d751",
   "metadata": {},
   "outputs": [
    {
     "name": "stdout",
     "output_type": "stream",
     "text": [
      "我们的数组是：\n",
      "[[30 65 70]\n",
      " [80 95 10]\n",
      " [50 90 60]]\n",
      "\n",
      "\n",
      "调用 median() 函数：\n",
      "65.0\n",
      "\n",
      "\n",
      "沿轴 0 调用 median() 函数：\n",
      "[50. 90. 60.]\n",
      "\n",
      "\n",
      "沿轴 1 调用 median() 函数：\n",
      "[65. 80. 60.]\n"
     ]
    }
   ],
   "source": [
    "a = np.array([[30,65,70],[80,95,10],[50,90,60]])  \n",
    "print ('我们的数组是：')\n",
    "print (a)\n",
    "print ('\\n')\n",
    "print ('调用 median() 函数：')\n",
    "print (np.median(a))\n",
    "print ('\\n')\n",
    "print ('沿轴 0 调用 median() 函数：')\n",
    "print (np.median(a, axis =  0))\n",
    "print ('\\n')\n",
    "print ('沿轴 1 调用 median() 函数：')\n",
    "print (np.median(a, axis =  1))"
   ]
  },
  {
   "cell_type": "markdown",
   "id": "1bc861ba",
   "metadata": {},
   "source": [
    "#### mean（）计算平均值"
   ]
  },
  {
   "cell_type": "code",
   "execution_count": 29,
   "id": "7d6dcec8",
   "metadata": {},
   "outputs": [
    {
     "name": "stdout",
     "output_type": "stream",
     "text": [
      "我们的数组是：\n",
      "[[1 2 3]\n",
      " [3 4 5]\n",
      " [4 5 6]]\n",
      "\n",
      "\n",
      "调用 mean() 函数：\n",
      "3.6666666666666665\n",
      "\n",
      "\n",
      "沿轴 0 调用 mean() 函数：\n",
      "[2.66666667 3.66666667 4.66666667]\n",
      "\n",
      "\n",
      "沿轴 1 调用 mean() 函数：\n",
      "[2. 4. 5.]\n"
     ]
    }
   ],
   "source": [
    "a = np.array([[1,2,3],[3,4,5],[4,5,6]])  \n",
    "print ('我们的数组是：')\n",
    "print (a)\n",
    "print ('\\n')\n",
    "print ('调用 mean() 函数：')\n",
    "print (np.mean(a))\n",
    "print ('\\n')\n",
    "print ('沿轴 0 调用 mean() 函数：')\n",
    "print (np.mean(a, axis =  0))\n",
    "print ('\\n')\n",
    "print ('沿轴 1 调用 mean() 函数：')\n",
    "print (np.mean(a, axis =  1))"
   ]
  },
  {
   "cell_type": "markdown",
   "id": "bdc6fd6c",
   "metadata": {},
   "source": [
    "#### 计算加权平均值average（数组，weights=[   ]）"
   ]
  },
  {
   "cell_type": "code",
   "execution_count": 30,
   "id": "ed7c3fdd",
   "metadata": {},
   "outputs": [
    {
     "name": "stdout",
     "output_type": "stream",
     "text": [
      "我们的数组是：\n",
      "[1 2 3 4]\n",
      "\n",
      "\n",
      "调用 average() 函数：\n",
      "2.0\n"
     ]
    }
   ],
   "source": [
    "a = np.array([1,2,3,4])  \n",
    "print ('我们的数组是：')\n",
    "print (a)\n",
    "print ('\\n')\n",
    "print ('调用 average() 函数：')\n",
    "wts = np.array([4,3,2,1])\n",
    "print (np.average(a,weights = wts))\n"
   ]
  },
  {
   "cell_type": "code",
   "execution_count": 34,
   "id": "e4bcf71d",
   "metadata": {},
   "outputs": [
    {
     "name": "stdout",
     "output_type": "stream",
     "text": [
      "我们的数组是：\n",
      "[[0 1]\n",
      " [2 3]\n",
      " [4 5]]\n",
      "\n",
      "\n",
      "修改后的数组：\n",
      "[0.625 2.625 4.625]\n",
      "[2.53333333 3.53333333]\n"
     ]
    }
   ],
   "source": [
    "a = np.arange(6).reshape(3,2)  \n",
    "print ('我们的数组是：')\n",
    "print (a)\n",
    "print ('\\n')\n",
    "print ('修改后的数组：')\n",
    "wt = np.array([3,5])  \n",
    "print (np.average(a, axis =  1, weights = wt))\n",
    "wt = np.array([3,5,7])  \n",
    "print (np.average(a, axis =  0, weights = wt))"
   ]
  },
  {
   "cell_type": "markdown",
   "id": "a54b643d",
   "metadata": {},
   "source": [
    "#### 计算方差 var函数"
   ]
  },
  {
   "cell_type": "code",
   "execution_count": 37,
   "id": "3a64194d",
   "metadata": {},
   "outputs": [
    {
     "name": "stdout",
     "output_type": "stream",
     "text": [
      "[0.66666667 0.66666667 0.66666667]\n"
     ]
    }
   ],
   "source": [
    "a=np.arange(0,9).reshape(3,3)\n",
    "print (np.var(a,1))"
   ]
  },
  {
   "cell_type": "markdown",
   "id": "d73e74e1",
   "metadata": {},
   "source": [
    "#### 计算标准差std()\n"
   ]
  },
  {
   "cell_type": "code",
   "execution_count": 38,
   "id": "26146661",
   "metadata": {},
   "outputs": [
    {
     "name": "stdout",
     "output_type": "stream",
     "text": [
      "[0.81649658 0.81649658 0.81649658]\n"
     ]
    }
   ],
   "source": [
    "print (np.std(a,1))"
   ]
  },
  {
   "cell_type": "markdown",
   "id": "a90a652f",
   "metadata": {},
   "source": [
    "## matplotlib"
   ]
  },
  {
   "cell_type": "markdown",
   "id": "1098dc6c",
   "metadata": {},
   "source": [
    "#### 最简单的绘图操作"
   ]
  },
  {
   "cell_type": "code",
   "execution_count": 41,
   "id": "323a1f5f",
   "metadata": {
    "scrolled": true
   },
   "outputs": [
    {
     "data": {
      "image/png": "[encoded data removed]",
      "text/plain": [
       "<Figure size 640x480 with 1 Axes>"
      ]
     },
     "metadata": {},
     "output_type": "display_data"
    }
   ],
   "source": [
    "x=np.arange(1,11)\n",
    "y=2*x+5\n",
    "plt.plot(x,y)\n",
    "plt.show()"
   ]
  },
  {
   "cell_type": "markdown",
   "id": "10a317bd",
   "metadata": {},
   "source": [
    "#### 设置图像的颜色和格式"
   ]
  },
  {
   "cell_type": "code",
   "execution_count": 55,
   "id": "738f1c62",
   "metadata": {},
   "outputs": [
    {
     "data": {
      "image/png": "[encoded data removed]",
      "text/plain": [
       "<Figure size 640x480 with 1 Axes>"
      ]
     },
     "metadata": {},
     "output_type": "display_data"
    }
   ],
   "source": [
    "x=np.arange(1,11)\n",
    "y=2*x+5\n",
    "plt.plot(x,y,\"o\", color=\"c\")\n",
    "plt.show()"
   ]
  },
  {
   "cell_type": "markdown",
   "id": "546c9425",
   "metadata": {},
   "source": [
    "#### 绘制条形图 bar函数\n",
    "#### bar(x,y)"
   ]
  },
  {
   "cell_type": "code",
   "execution_count": 56,
   "id": "17d51ca9",
   "metadata": {},
   "outputs": [
    {
     "data": {
      "image/png": "[encoded data removed]",
      "text/plain": [
       "<Figure size 640x480 with 1 Axes>"
      ]
     },
     "metadata": {},
     "output_type": "display_data"
    }
   ],
   "source": [
    "x =  [5,8,10] \n",
    "y =  [12,16,6] \n",
    "x2 =  [6,9,11] \n",
    "y2 =  [6,15,7] \n",
    "plt.bar(x, y, align =  'center') \n",
    "plt.bar(x2, y2, color =  'g', align =  'center') \n",
    "plt.title('Bar graph') \n",
    "plt.ylabel('Y axis') \n",
    "plt.xlabel('X axis') \n",
    "plt.show()\n"
   ]
  },
  {
   "cell_type": "markdown",
   "id": "820d8ee7",
   "metadata": {},
   "source": [
    "#### 直方图 plt.hist(数组，bins=【数组】)"
   ]
  },
  {
   "cell_type": "code",
   "execution_count": 7,
   "id": "40374be6",
   "metadata": {
    "scrolled": true
   },
   "outputs": [
    {
     "data": {
      "image/png": "[encoded data removed]",
      "text/plain": [
       "<Figure size 640x480 with 1 Axes>"
      ]
     },
     "metadata": {},
     "output_type": "display_data"
    }
   ],
   "source": [
    "a = np.array([22,87,5,43,56,73,55,54,11,20,51,5,79,31,27])\n",
    "plt.hist(a,bins=[0,10,20,30,40,50,60,70,80,90,100])\n",
    "plt.title('historgam')\n",
    "plt.show()"
   ]
  },
  {
   "cell_type": "markdown",
   "id": "8c91645a",
   "metadata": {},
   "source": [
    "#### 创建一些测试数据"
   ]
  },
  {
   "cell_type": "code",
   "execution_count": 14,
   "id": "e9b33ff5",
   "metadata": {},
   "outputs": [],
   "source": [
    "x=np.linspace(0,2*np.pi,400)\n",
    "y=np.sin(x**2)"
   ]
  },
  {
   "cell_type": "markdown",
   "id": "c824631a",
   "metadata": {},
   "source": [
    "#### 创建一个画像和子图"
   ]
  },
  {
   "cell_type": "code",
   "execution_count": 13,
   "id": "ee05e95f",
   "metadata": {},
   "outputs": [
    {
     "data": {
      "text/plain": [
       "Text(0.5, 1.0, 'Simple plot')"
      ]
     },
     "execution_count": 13,
     "metadata": {},
     "output_type": "execute_result"
    },
    {
     "data": {
      "image/png": "[encoded data removed]",
      "text/plain": [
       "<Figure size 640x480 with 1 Axes>"
      ]
     },
     "metadata": {},
     "output_type": "display_data"
    }
   ],
   "source": [
    "fig,ax=plt.subplots()\n",
    "ax.plot(x,y)\n",
    "ax.set_title('Simple plot')"
   ]
  },
  {
   "cell_type": "markdown",
   "id": "a2029a3e",
   "metadata": {},
   "source": [
    "#### 创建两个子图"
   ]
  },
  {
   "cell_type": "code",
   "execution_count": 17,
   "id": "edcd92b2",
   "metadata": {},
   "outputs": [
    {
     "data": {
      "text/plain": [
       "<matplotlib.collections.PathCollection at 0x1dd0d1cbc50>"
      ]
     },
     "execution_count": 17,
     "metadata": {},
     "output_type": "execute_result"
    },
    {
     "data": {
      "image/png": "[encoded data removed]",
      "text/plain": [
       "<Figure size 640x480 with 2 Axes>"
      ]
     },
     "metadata": {},
     "output_type": "display_data"
    }
   ],
   "source": [
    "fig,(ax1,ax2)=plt.subplots(1,2,sharey=True)\n",
    "ax1.plot(x,y)\n",
    "ax1.set_title('Sharing Y axis')\n",
    "ax2.scatter(x,y)"
   ]
  },
  {
   "cell_type": "markdown",
   "id": "81a64ea0",
   "metadata": {},
   "source": [
    "#### 创建四个子图"
   ]
  },
  {
   "cell_type": "code",
   "execution_count": 25,
   "id": "8699ba69",
   "metadata": {},
   "outputs": [
    {
     "data": {
      "text/plain": [
       "<matplotlib.collections.PathCollection at 0x1dd0c0c7410>"
      ]
     },
     "execution_count": 25,
     "metadata": {},
     "output_type": "execute_result"
    },
    {
     "data": {
      "image/png": "[encoded data removed]",
      "text/plain": [
       "<Figure size 640x480 with 4 Axes>"
      ]
     },
     "metadata": {},
     "output_type": "display_data"
    }
   ],
   "source": [
    "fig,axs=plt.subplots(2,2,subplot_kw=dict(projection='polar'))\n",
    "axs[0,0].plot(x,y)\n",
    "axs[1,1].scatter(x,y)"
   ]
  },
  {
   "cell_type": "markdown",
   "id": "7e6bbd86",
   "metadata": {},
   "source": [
    "## 拷贝与副本"
   ]
  },
  {
   "cell_type": "markdown",
   "id": "fd8f602a",
   "metadata": {},
   "source": [
    "#### 赋值会改变原始数组（共用地址）"
   ]
  },
  {
   "cell_type": "code",
   "execution_count": 26,
   "id": "ddf9c307",
   "metadata": {},
   "outputs": [
    {
     "name": "stdout",
     "output_type": "stream",
     "text": [
      "我们的数组是：\n",
      "[0 1 2 3 4 5]\n",
      "调用 id() 函数：\n",
      "2048894129360\n",
      "a 赋值给 b：\n",
      "[0 1 2 3 4 5]\n",
      "b 拥有相同 id()：\n",
      "2048894129360\n",
      "修改 b 的形状：\n",
      "[[0 1]\n",
      " [2 3]\n",
      " [4 5]]\n",
      "a 的形状也修改了：\n",
      "[[0 1]\n",
      " [2 3]\n",
      " [4 5]]\n"
     ]
    }
   ],
   "source": [
    "a = np.arange(6)  \n",
    "print ('我们的数组是：')\n",
    "print (a)\n",
    "print ('调用 id() 函数：')\n",
    "print (id(a))\n",
    "print ('a 赋值给 b：')\n",
    "b = a \n",
    "print (b)\n",
    "print ('b 拥有相同 id()：')\n",
    "print (id(b))\n",
    "print ('修改 b 的形状：')\n",
    "b.shape =  3,2  \n",
    "print (b)\n",
    "print ('a 的形状也修改了：')\n",
    "print (a)"
   ]
  },
  {
   "cell_type": "markdown",
   "id": "cd1afdc6",
   "metadata": {},
   "source": [
    "#### ndarray.view()创建了新的数组，id不同"
   ]
  },
  {
   "cell_type": "code",
   "execution_count": 27,
   "id": "50c38ed9",
   "metadata": {},
   "outputs": [
    {
     "name": "stdout",
     "output_type": "stream",
     "text": [
      "数组 a：\n",
      "[[0 1]\n",
      " [2 3]\n",
      " [4 5]]\n",
      "创建 a 的视图：\n",
      "[[0 1]\n",
      " [2 3]\n",
      " [4 5]]\n",
      "两个数组的 id() 不同：\n",
      "a 的 id()：\n",
      "2048894132624\n",
      "b 的 id()：\n",
      "2048894140304\n",
      "b 的形状：\n",
      "[[0 1 2]\n",
      " [3 4 5]]\n",
      "a 的形状：\n",
      "[[0 1]\n",
      " [2 3]\n",
      " [4 5]]\n"
     ]
    }
   ],
   "source": [
    "# 最开始 a 是个 3X2 的数组\n",
    "a = np.arange(6).reshape(3,2)  \n",
    "print ('数组 a：')\n",
    "print (a)\n",
    "print ('创建 a 的视图：')\n",
    "b = a.view()  \n",
    "print (b)\n",
    "print ('两个数组的 id() 不同：')\n",
    "print ('a 的 id()：')\n",
    "print (id(a))\n",
    "print ('b 的 id()：' )\n",
    "print (id(b))\n",
    "# 修改 b 的形状，并不会修改 a\n",
    "b.shape =  2,3\n",
    "print ('b 的形状：')\n",
    "print (b)\n",
    "print ('a 的形状：')\n",
    "print (a)"
   ]
  },
  {
   "cell_type": "markdown",
   "id": "dcb0692a",
   "metadata": {},
   "source": [
    "#### 使用切片创建视图修改数据会影响到原始数组"
   ]
  },
  {
   "cell_type": "code",
   "execution_count": 28,
   "id": "8fdb7cd6",
   "metadata": {},
   "outputs": [
    {
     "name": "stdout",
     "output_type": "stream",
     "text": [
      "我们的数组：\n",
      "[ 0  1  2  3  4  5  6  7  8  9 10 11]\n",
      "创建切片：\n",
      "[  0   1   2   3 123 234   6   7   8   9  10  11]\n",
      "2048901599888 2048894132624 2048893548560\n"
     ]
    }
   ],
   "source": [
    "arr = np.arange(12)\n",
    "print ('我们的数组：')\n",
    "print (arr)\n",
    "print ('创建切片：')\n",
    "a=arr[3:]\n",
    "b=arr[3:]\n",
    "a[1]=123\n",
    "b[2]=234\n",
    "print(arr)\n",
    "print(id(a),id(b),id(arr[3:]))"
   ]
  },
  {
   "cell_type": "markdown",
   "id": "ec6f4c9b",
   "metadata": {},
   "source": [
    "#### 副本直接导致物理地址不同"
   ]
  },
  {
   "cell_type": "code",
   "execution_count": null,
   "id": "d8296244",
   "metadata": {},
   "outputs": [],
   "source": []
  }
 ],
 "metadata": {
  "kernelspec": {
   "display_name": "Python 3 (ipykernel)",
   "language": "python",
   "name": "python3"
  },
  "language_info": {
   "codemirror_mode": {
    "name": "ipython",
    "version": 3
   },
   "file_extension": ".py",
   "mimetype": "text/x-python",
   "name": "python",
   "nbconvert_exporter": "python",
   "pygments_lexer": "ipython3",
   "version": "3.11.4"
  }
 },
 "nbformat": 4,
 "nbformat_minor": 5
}
