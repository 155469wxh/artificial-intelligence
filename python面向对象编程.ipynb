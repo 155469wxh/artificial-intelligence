{
 "cells": [
  {
   "cell_type": "markdown",
   "id": "d9530211",
   "metadata": {},
   "source": [
    "# 封装"
   ]
  },
  {
   "cell_type": "markdown",
   "id": "2245f78a",
   "metadata": {},
   "source": [
    "#### 一般，使用class语句来创建一个新类，class之后为类的名称（通常首字母大写）以冒号结尾，代码如下："
   ]
  },
  {
   "cell_type": "code",
   "execution_count": 4,
   "id": "90ac45cf",
   "metadata": {},
   "outputs": [
    {
     "name": "stdout",
     "output_type": "stream",
     "text": [
      "车正在移动...\n",
      "white\n",
      "4\n",
      "车轮子个数：4,颜色white\n"
     ]
    }
   ],
   "source": [
    "class Car():\n",
    "    def getCarInfo(self):\n",
    "        print('车轮子个数：%d,颜色%s'%(self.wheelNum,self.color))\n",
    "    def move(self):\n",
    "        print('车正在移动...')\n",
    "\n",
    "wuling=Car()\n",
    "wuling.color='white'\n",
    "wuling.wheelNum=4\n",
    "wuling.move()\n",
    "print(wuling.color)\n",
    "print(wuling.wheelNum)\n",
    "wuling.getCarInfo()"
   ]
  },
  {
   "cell_type": "markdown",
   "id": "4aa1ae58",
   "metadata": {},
   "source": [
    "### 类的初始化函数__init__(双下划线)\n",
    "#### 当再次创建对象时，创建后重新添加属性过于麻烦。使用__init__()函数【初始化函数】可以\n",
    "### 直接给予属性"
   ]
  },
  {
   "cell_type": "code",
   "execution_count": 8,
   "id": "6890794b",
   "metadata": {},
   "outputs": [
    {
     "name": "stdout",
     "output_type": "stream",
     "text": [
      "五菱车的颜色为： white\n",
      "五菱车的轮胎为： 4\n",
      "自行车的颜色为： black\n",
      "自行车的轮胎为： 2\n"
     ]
    }
   ],
   "source": [
    "class Car:\n",
    "    def __init__(self,wheelNum=4,color='white'):\n",
    "        self.wheelNum=wheelNum\n",
    "        self.color=color\n",
    "    def move(self):\n",
    "        print('车在行驶')\n",
    "wuling=Car()\n",
    "print('五菱车的颜色为：',wuling.color)\n",
    "print('五菱车的轮胎为：',wuling.wheelNum)\n",
    "bicycle=Car(2,'black')\n",
    "print('自行车的颜色为：',bicycle.color)\n",
    "print('自行车的轮胎为：',bicycle.wheelNum)\n"
   ]
  },
  {
   "cell_type": "markdown",
   "id": "ab44388e",
   "metadata": {},
   "source": [
    "### 魔法方法\n",
    "#### __call__函数和__init__函数\n",
    "#### 这些魔法方法在类或者对象进行特定操作时会被自动调用\n",
    "#### __init__函数可以对类进行初始化赋值\n",
    "#### __call__函数可以把类当做函数来调用"
   ]
  },
  {
   "cell_type": "code",
   "execution_count": 12,
   "id": "63163013",
   "metadata": {},
   "outputs": [
    {
     "name": "stdout",
     "output_type": "stream",
     "text": [
      "10 20\n",
      "100 200\n"
     ]
    }
   ],
   "source": [
    "class Num():\n",
    "    def __init__(self,x,y):\n",
    "        Num.x=x\n",
    "        Num.y=y\n",
    "    def __call__(self,x,y):\n",
    "        self.x=x\n",
    "        self.y=y\n",
    "a=Num(10,20)\n",
    "print(a.x,a.y)\n",
    "a(100,200)##call方法发挥作用\n",
    "print(a.x,a.y)\n"
   ]
  },
  {
   "cell_type": "markdown",
   "id": "eea1d4de",
   "metadata": {},
   "source": [
    "### 类属性（公有属性和私有属性【双下划线】）"
   ]
  },
  {
   "cell_type": "code",
   "execution_count": 3,
   "id": "6ea8ba25",
   "metadata": {},
   "outputs": [
    {
     "name": "stdout",
     "output_type": "stream",
     "text": [
      "1\n",
      "1\n"
     ]
    }
   ],
   "source": [
    "class People():\n",
    "    name='1'\n",
    "    __age=24\n",
    "    def __int__(self):\n",
    "        pass\n",
    "p=People()\n",
    "print (p.name)\n",
    "print (People.name)\n",
    "##print (p.__age)  会报错\n",
    "##print (Peopel.__age)  会报错\n"
   ]
  },
  {
   "cell_type": "markdown",
   "id": "41aa87e1",
   "metadata": {},
   "source": [
    "### 实例属性（实例变量）\n",
    "#### 实例属性可以增添修改删除"
   ]
  },
  {
   "cell_type": "code",
   "execution_count": 5,
   "id": "aeab5752",
   "metadata": {},
   "outputs": [
    {
     "name": "stdout",
     "output_type": "stream",
     "text": [
      "China\n",
      "China\n",
      "england\n",
      "UK\n"
     ]
    }
   ],
   "source": [
    "class People:\n",
    "    country='China'\n",
    "print(People.country)\n",
    "p=People()\n",
    "print(p.country)\n",
    "p.country='england'\n",
    "print(p.country)\n",
    "People.country='UK'\n",
    "print(People.country)\n"
   ]
  },
  {
   "cell_type": "markdown",
   "id": "3a8705f2",
   "metadata": {},
   "source": [
    "### 类方法 @classmethod\n",
    "#### 便于对子类进行操作\n"
   ]
  },
  {
   "cell_type": "code",
   "execution_count": 8,
   "id": "d78316eb",
   "metadata": {},
   "outputs": [
    {
     "name": "stdout",
     "output_type": "stream",
     "text": [
      "China\n",
      "China\n",
      "UK\n",
      "UK\n"
     ]
    }
   ],
   "source": [
    "class People:\n",
    "    country='China'\n",
    "    @classmethod\n",
    "    def getCountry(cls):\n",
    "        return cls.country\n",
    "    @classmethod\n",
    "    def setCountry(cls,country):\n",
    "        cls.country=country\n",
    "p=People()\n",
    "print(p.getCountry())\n",
    "print(People.getCountry())\n",
    "p.setCountry('UK')\n",
    "print(p.getCountry())\n",
    "print(People.getCountry())"
   ]
  },
  {
   "cell_type": "markdown",
   "id": "2c6acdaf",
   "metadata": {},
   "source": [
    "### 静态方法\n",
    "#### 对类中的属性和变量不造成影响的一类简单函数"
   ]
  },
  {
   "cell_type": "code",
   "execution_count": 13,
   "id": "a39e9868",
   "metadata": {},
   "outputs": [
    {
     "name": "stdout",
     "output_type": "stream",
     "text": [
      "17:42:41\n",
      "17:42:41\n"
     ]
    }
   ],
   "source": [
    "import time\n",
    "class TimeTest(object):\n",
    "    def __init__(self,hour,minute,second):\n",
    "        self.hour=hour\n",
    "        self.second=second\n",
    "        self.minute=minute\n",
    "    @staticmethod\n",
    "    def ShowTime():\n",
    "        return time.strftime('%H:%M:%S',time.localtime())\n",
    "print(TimeTest.ShowTime())\n",
    "t=TimeTest(2,10,10)\n",
    "print(t.ShowTime())"
   ]
  },
  {
   "cell_type": "markdown",
   "id": "4d75068d",
   "metadata": {},
   "source": [
    "### 继承"
   ]
  },
  {
   "cell_type": "code",
   "execution_count": 15,
   "id": "1172c283",
   "metadata": {},
   "outputs": [
    {
     "name": "stdout",
     "output_type": "stream",
     "text": [
      "罗小黑--在跑\n",
      "小白--在吃小鱼干\n",
      "小白--在跑\n"
     ]
    }
   ],
   "source": [
    "class Cat():\n",
    "    def __init__(self,name,color):\n",
    "        self.name=name\n",
    "        self.color=color\n",
    "    def run(self):\n",
    "        print(\"%s--在跑\"%self.name)\n",
    "class bigcat(Cat):\n",
    "    def setName(self,name):\n",
    "        self.name=name\n",
    "    def eat(self):\n",
    "        print('%s--在吃小鱼干'%self.name)\n",
    "xiaomao=Cat('罗小黑','白色')\n",
    "xiaomao.run()\n",
    "bb=bigcat('小白','黑色')\n",
    "bb.eat()\n",
    "bb.run()\n",
    "    "
   ]
  },
  {
   "cell_type": "markdown",
   "id": "48b8fa62",
   "metadata": {},
   "source": [
    "#### 不能继承父类的私有属性和私有方法"
   ]
  },
  {
   "cell_type": "code",
   "execution_count": 25,
   "id": "9d687525",
   "metadata": {},
   "outputs": [
    {
     "name": "stdout",
     "output_type": "stream",
     "text": [
      "白色\n",
      "动物\n",
      "白色\n",
      "牛奶色\n",
      "小狗\n",
      "牛奶色\n"
     ]
    }
   ],
   "source": [
    "class Animal():\n",
    "    def __init__(self,name=\"动物\",color=\"白色\"):\n",
    "        self.__name=name\n",
    "        self.color=color\n",
    "    def __test(self):\n",
    "        print(self.__name)\n",
    "        print(self.color)\n",
    "    def test(self):## 这个test函数可以直接使用的，虽然有__name的私有属性\n",
    "        print(self.__name)\n",
    "        print(self.color)\n",
    "class Dog(Animal):\n",
    "    def test1(self):\n",
    "        ##print(self.__name )##不能访问到父类的私有属性\n",
    "        print(self.color)\n",
    "    def test2(self):\n",
    "        ##self.__test()##不能访问到父类的私有方法\n",
    "        self.test()\n",
    "A=Animal()\n",
    "##A.print(A.__name)  ##不能访问到父类的私有属性\n",
    "print(A.color )\n",
    "##A.__test()  ##不能访问到父类的私有方法\n",
    "A.test()\n",
    "D=Dog(name=\"小狗\",color=\"牛奶色\")\n",
    "D.test1()\n",
    "D.test2()"
   ]
  },
  {
   "cell_type": "markdown",
   "id": "04af3e58",
   "metadata": {},
   "source": [
    "### 多继承  遇到同名函数，优先继承父类（第一个类名）"
   ]
  },
  {
   "cell_type": "code",
   "execution_count": 28,
   "id": "c4dc0592",
   "metadata": {},
   "outputs": [
    {
     "name": "stdout",
     "output_type": "stream",
     "text": [
      "B--test\n"
     ]
    }
   ],
   "source": [
    "class base():\n",
    "    def test(self):\n",
    "        print('base--test')\n",
    "class A (base):\n",
    "    def test(self):\n",
    "        print('A--test')\n",
    "class B (base):\n",
    "    def test(self):\n",
    "        print('B--test')\n",
    "class C(B,A):\n",
    "    pass\n",
    "cc=C()\n",
    "cc.test()"
   ]
  },
  {
   "cell_type": "markdown",
   "id": "8372b67a",
   "metadata": {},
   "source": [
    "### 调用与重写 子类中有与父类同名的函数，则父类函数直接被覆盖，使用子类函数"
   ]
  },
  {
   "cell_type": "code",
   "execution_count": 7,
   "id": "816e0b63",
   "metadata": {},
   "outputs": [
    {
     "name": "stdout",
     "output_type": "stream",
     "text": [
      "miao---\n"
     ]
    }
   ],
   "source": [
    "class Cat:\n",
    "    def sayHellow(self):\n",
    "        print('miaomiao~~~')\n",
    "class Luoxiaohei(Cat):\n",
    "    def sayHellow(self):\n",
    "        print('miao---')\n",
    "xiaomao=Luoxiaohei()\n",
    "xiaomao.sayHellow()\n"
   ]
  },
  {
   "cell_type": "markdown",
   "id": "f7ffdc33",
   "metadata": {},
   "source": [
    "### 使用super（）函数来调用父类函数\n",
    "#### 相比于直接用父类名，这个方法更适合类名复杂且不好查看的类型"
   ]
  },
  {
   "cell_type": "code",
   "execution_count": 8,
   "id": "305e02b2",
   "metadata": {},
   "outputs": [
    {
     "name": "stdout",
     "output_type": "stream",
     "text": [
      "miaomiao~~~\n"
     ]
    }
   ],
   "source": [
    "class Cat:\n",
    "    def sayHellow(self):\n",
    "        print('miaomiao~~~')\n",
    "class Luoxiaohei(Cat):\n",
    "    def sayHellow(self):\n",
    "        super().sayHellow()\n",
    "xiaomao=Luoxiaohei()\n",
    "xiaomao.sayHellow()\n"
   ]
  },
  {
   "cell_type": "markdown",
   "id": "e1544693",
   "metadata": {},
   "source": [
    "#### 补充：super().__innit__表示调用父类的初始化方法"
   ]
  },
  {
   "cell_type": "markdown",
   "id": "aee40e0b",
   "metadata": {},
   "source": [
    "### 多态\n",
    "#### 同一事物有多种形态"
   ]
  },
  {
   "cell_type": "code",
   "execution_count": 10,
   "id": "5eff4cd1",
   "metadata": {},
   "outputs": [
    {
     "name": "stdout",
     "output_type": "stream",
     "text": [
      "喵喵喵\n",
      "汪汪汪\n",
      "嘎嘎嘎\n"
     ]
    }
   ],
   "source": [
    "class Animal:\n",
    "    def talk(self):\n",
    "        pass\n",
    "class Cat(Animal):\n",
    "    def talk(self):\n",
    "        print('喵喵喵')\n",
    "class Dog(Animal):\n",
    "    def talk(self):\n",
    "        print('汪汪汪')\n",
    "class Duck(Animal):\n",
    "    def talk(self):\n",
    "        print('嘎嘎嘎')\n",
    "cat =Cat()\n",
    "dog =Dog()\n",
    "duck=Duck()\n",
    "cat.talk()\n",
    "dog.talk()\n",
    "duck.talk()"
   ]
  },
  {
   "cell_type": "markdown",
   "id": "2d738674",
   "metadata": {},
   "source": [
    "### 鸭子类型多态\n",
    "#### Python崇尚的“鸭子类型”（duck typing）：“如果看起来像、叫声像而且走起路来像鸭子，那么它就是鸭子”。比起继承的方式，鸭子类型在某种程度上实现了程序的松耦合度"
   ]
  },
  {
   "cell_type": "code",
   "execution_count": 11,
   "id": "2edc46fb",
   "metadata": {},
   "outputs": [
    {
     "name": "stdout",
     "output_type": "stream",
     "text": [
      "分割线\n"
     ]
    }
   ],
   "source": [
    "print('分割线')"
   ]
  },
  {
   "cell_type": "markdown",
   "id": "58bdd77e",
   "metadata": {},
   "source": [
    "## 抽象类\n",
    "### 在父类引入抽象类的概念\n",
    "### 父类对子类的限制  @abc.abstractmethod关键字\n",
    "#### 有点像父亲对儿子的教诲"
   ]
  },
  {
   "cell_type": "code",
   "execution_count": 20,
   "id": "09f4f22f",
   "metadata": {},
   "outputs": [
    {
     "name": "stdout",
     "output_type": "stream",
     "text": [
      "miaomiao~~~\n",
      "子类对父类的限制\n"
     ]
    }
   ],
   "source": [
    "import abc\n",
    "class Cat(metaclass=abc.ABCMeta):\n",
    "    def sayHello(self):\n",
    "        print('miaomiao~~~')\n",
    "    @abc.abstractmethod\n",
    "    def talk(self):\n",
    "        pass\n",
    "class Luoxiaohei(Cat):\n",
    "    def talk(self):\n",
    "        print('子类对父类的限制')\n",
    "    def sayHello(self):\n",
    "        super().sayHello()\n",
    "xiaomao=Luoxiaohei()\n",
    "xiaomao.sayHello()\n",
    "xiaomao.talk()\n"
   ]
  },
  {
   "cell_type": "code",
   "execution_count": null,
   "id": "6a5a076d",
   "metadata": {},
   "outputs": [],
   "source": []
  }
 ],
 "metadata": {
  "kernelspec": {
   "display_name": "Python 3 (ipykernel)",
   "language": "python",
   "name": "python3"
  },
  "language_info": {
   "codemirror_mode": {
    "name": "ipython",
    "version": 3
   },
   "file_extension": ".py",
   "mimetype": "text/x-python",
   "name": "python",
   "nbconvert_exporter": "python",
   "pygments_lexer": "ipython3",
   "version": "3.11.4"
  }
 },
 "nbformat": 4,
 "nbformat_minor": 5
}
